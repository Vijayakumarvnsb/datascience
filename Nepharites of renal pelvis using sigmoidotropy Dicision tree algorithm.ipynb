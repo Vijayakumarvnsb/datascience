{
  "nbformat": 4,
  "nbformat_minor": 0,
  "metadata": {
    "colab": {
      "name": "sigmoidDTC.ipynb",
      "provenance": []
    },
    "kernelspec": {
      "name": "python3",
      "display_name": "Python 3"
    },
    "language_info": {
      "name": "python"
    }
  },
  "cells": [
    {
      "cell_type": "code",
      "metadata": {
        "colab": {
          "base_uri": "https://localhost:8080/"
        },
        "id": "g0U6tOwuR_Qb",
        "outputId": "a5a9ab0e-e938-4682-d9d2-267f900908d8"
      },
      "source": [
        "from google.colab import drive\n",
        "drive.mount('/content/grive')"
      ],
      "execution_count": null,
      "outputs": [
        {
          "output_type": "stream",
          "name": "stdout",
          "text": [
            "Mounted at /content/grive\n"
          ]
        }
      ]
    },
    {
      "cell_type": "code",
      "metadata": {
        "id": "pceCZ8ELSL_w"
      },
      "source": [
        "import matplotlib.pyplot as plt\n",
        "import seaborn as sns"
      ],
      "execution_count": null,
      "outputs": []
    },
    {
      "cell_type": "code",
      "metadata": {
        "colab": {
          "base_uri": "https://localhost:8080/",
          "height": 17
        },
        "id": "575c6tcYSRn4",
        "outputId": "568e5e06-bdce-4f2c-d6e0-e33bcdcab2fb"
      },
      "source": [
        "## Data Preperation Libraries\n",
        "import numpy as np\n",
        "import pandas as pd\n",
        "import matplotlib.pyplot as plt\n",
        "from sklearn.preprocessing import StandardScaler\n",
        "from sklearn.model_selection import train_test_split\n",
        "from sklearn import preprocessing\n",
        "## Support Vector Machine Libraries\n",
        "from sklearn import svm\n",
        "## Decision Tree Libraries\n",
        "from sklearn import tree\n",
        "## Adaboost Libraries\n",
        "from sklearn.ensemble import AdaBoostClassifier\n",
        "from sklearn.tree import DecisionTreeClassifier\n",
        "## Cross Validation Libraries \n",
        "from sklearn.model_selection import cross_val_score\n",
        "from sklearn.model_selection import cross_validate\n",
        "## Library for plotting\n",
        "# import matplotlib.pyplot as plt\n",
        "## Library for calculating performance metrics\n",
        "from sklearn.metrics import classification_report, confusion_matrix  \n",
        "from sklearn.metrics import accuracy_score,roc_curve, auc\n",
        "from sklearn import metrics\n",
        "from sklearn.tree import DecisionTreeClassifier\n",
        "from sklearn.tree import DecisionTreeRegressor\n",
        "from sklearn.ensemble import AdaBoostRegressor\n",
        "import warnings\n",
        "from plotly.offline import download_plotlyjs, init_notebook_mode, plot, iplot\n",
        "import seaborn as sns\n",
        "import os\n",
        "import time\n",
        "#Setting options\n",
        "init_notebook_mode(connected=True)\n",
        "warnings.filterwarnings(\"ignore\")\n",
        "\n",
        "#Set Default option\n",
        "from IPython.core.display import display, HTML\n",
        "display(HTML(\"<style>.container { width:90% !important; }</style>\"))\n",
        "pd.options.display.max_rows = 3000"
      ],
      "execution_count": null,
      "outputs": [
        {
          "output_type": "display_data",
          "data": {
            "text/html": [
              "        <script type=\"text/javascript\">\n",
              "        window.PlotlyConfig = {MathJaxConfig: 'local'};\n",
              "        if (window.MathJax) {MathJax.Hub.Config({SVG: {font: \"STIX-Web\"}});}\n",
              "        if (typeof require !== 'undefined') {\n",
              "        require.undef(\"plotly\");\n",
              "        requirejs.config({\n",
              "            paths: {\n",
              "                'plotly': ['https://cdn.plot.ly/plotly-latest.min']\n",
              "            }\n",
              "        });\n",
              "        require(['plotly'], function(Plotly) {\n",
              "            window._Plotly = Plotly;\n",
              "        });\n",
              "        }\n",
              "        </script>\n",
              "        "
            ]
          },
          "metadata": {}
        },
        {
          "output_type": "display_data",
          "data": {
            "text/html": [
              "<style>.container { width:90% !important; }</style>"
            ],
            "text/plain": [
              "<IPython.core.display.HTML object>"
            ]
          },
          "metadata": {}
        }
      ]
    },
    {
      "cell_type": "code",
      "metadata": {
        "colab": {
          "base_uri": "https://localhost:8080/",
          "height": 346
        },
        "id": "s7tNZjVHScPY",
        "outputId": "e7326290-44f7-410d-c64a-74bc1793d2df"
      },
      "source": [
        "import pandas as pd\n",
        "name = ['Temperature of patient', 'Occurrence of nausea', 'Lumbar pain', 'Urine pushing', 'Micturition pains',\n",
        "       'Burning of urethra, itch, swelling of urethra outlet ', 'decision: Inflammation of urinary bladder',\n",
        "       'decision: Nephritis of renal pelvis origin']\n",
        "data = pd.read_csv('/content/grive/MyDrive/diagnosis (1).csv', names = name, skiprows=[0])\n",
        "data.head()"
      ],
      "execution_count": null,
      "outputs": [
        {
          "output_type": "execute_result",
          "data": {
            "text/html": [
              "<div>\n",
              "<style scoped>\n",
              "    .dataframe tbody tr th:only-of-type {\n",
              "        vertical-align: middle;\n",
              "    }\n",
              "\n",
              "    .dataframe tbody tr th {\n",
              "        vertical-align: top;\n",
              "    }\n",
              "\n",
              "    .dataframe thead th {\n",
              "        text-align: right;\n",
              "    }\n",
              "</style>\n",
              "<table border=\"1\" class=\"dataframe\">\n",
              "  <thead>\n",
              "    <tr style=\"text-align: right;\">\n",
              "      <th></th>\n",
              "      <th>Temperature of patient</th>\n",
              "      <th>Occurrence of nausea</th>\n",
              "      <th>Lumbar pain</th>\n",
              "      <th>Urine pushing</th>\n",
              "      <th>Micturition pains</th>\n",
              "      <th>Burning of urethra, itch, swelling of urethra outlet</th>\n",
              "      <th>decision: Inflammation of urinary bladder</th>\n",
              "      <th>decision: Nephritis of renal pelvis origin</th>\n",
              "    </tr>\n",
              "  </thead>\n",
              "  <tbody>\n",
              "    <tr>\n",
              "      <th>0</th>\n",
              "      <td>35.5</td>\n",
              "      <td>no</td>\n",
              "      <td>yes</td>\n",
              "      <td>no</td>\n",
              "      <td>no</td>\n",
              "      <td>no</td>\n",
              "      <td>no</td>\n",
              "      <td>no</td>\n",
              "    </tr>\n",
              "    <tr>\n",
              "      <th>1</th>\n",
              "      <td>35.9</td>\n",
              "      <td>no</td>\n",
              "      <td>no</td>\n",
              "      <td>yes</td>\n",
              "      <td>yes</td>\n",
              "      <td>yes</td>\n",
              "      <td>yes</td>\n",
              "      <td>no</td>\n",
              "    </tr>\n",
              "    <tr>\n",
              "      <th>2</th>\n",
              "      <td>35.9</td>\n",
              "      <td>no</td>\n",
              "      <td>yes</td>\n",
              "      <td>no</td>\n",
              "      <td>no</td>\n",
              "      <td>no</td>\n",
              "      <td>no</td>\n",
              "      <td>no</td>\n",
              "    </tr>\n",
              "    <tr>\n",
              "      <th>3</th>\n",
              "      <td>36.0</td>\n",
              "      <td>no</td>\n",
              "      <td>no</td>\n",
              "      <td>yes</td>\n",
              "      <td>yes</td>\n",
              "      <td>yes</td>\n",
              "      <td>yes</td>\n",
              "      <td>no</td>\n",
              "    </tr>\n",
              "    <tr>\n",
              "      <th>4</th>\n",
              "      <td>36.0</td>\n",
              "      <td>no</td>\n",
              "      <td>yes</td>\n",
              "      <td>no</td>\n",
              "      <td>no</td>\n",
              "      <td>no</td>\n",
              "      <td>no</td>\n",
              "      <td>no</td>\n",
              "    </tr>\n",
              "  </tbody>\n",
              "</table>\n",
              "</div>"
            ],
            "text/plain": [
              "   Temperature of patient  ... decision: Nephritis of renal pelvis origin\n",
              "0                    35.5  ...                                         no\n",
              "1                    35.9  ...                                         no\n",
              "2                    35.9  ...                                         no\n",
              "3                    36.0  ...                                         no\n",
              "4                    36.0  ...                                         no\n",
              "\n",
              "[5 rows x 8 columns]"
            ]
          },
          "metadata": {},
          "execution_count": 5
        }
      ]
    },
    {
      "cell_type": "code",
      "metadata": {
        "id": "hioSki7ATE57"
      },
      "source": [
        "from sklearn.preprocessing import LabelEncoder\n",
        "\n",
        "le = LabelEncoder()\n",
        "\n",
        "for i in data.columns[0:] :\n",
        "    data[i] = le.fit_transform(data[i])"
      ],
      "execution_count": null,
      "outputs": []
    },
    {
      "cell_type": "code",
      "metadata": {
        "colab": {
          "base_uri": "https://localhost:8080/",
          "height": 346
        },
        "id": "_BzKjEh_TGpi",
        "outputId": "99467a9d-3e9b-4a01-a429-2f0f27fb2745"
      },
      "source": [
        "data.head()"
      ],
      "execution_count": null,
      "outputs": [
        {
          "output_type": "execute_result",
          "data": {
            "text/html": [
              "<div>\n",
              "<style scoped>\n",
              "    .dataframe tbody tr th:only-of-type {\n",
              "        vertical-align: middle;\n",
              "    }\n",
              "\n",
              "    .dataframe tbody tr th {\n",
              "        vertical-align: top;\n",
              "    }\n",
              "\n",
              "    .dataframe thead th {\n",
              "        text-align: right;\n",
              "    }\n",
              "</style>\n",
              "<table border=\"1\" class=\"dataframe\">\n",
              "  <thead>\n",
              "    <tr style=\"text-align: right;\">\n",
              "      <th></th>\n",
              "      <th>Temperature of patient</th>\n",
              "      <th>Occurrence of nausea</th>\n",
              "      <th>Lumbar pain</th>\n",
              "      <th>Urine pushing</th>\n",
              "      <th>Micturition pains</th>\n",
              "      <th>Burning of urethra, itch, swelling of urethra outlet</th>\n",
              "      <th>decision: Inflammation of urinary bladder</th>\n",
              "      <th>decision: Nephritis of renal pelvis origin</th>\n",
              "    </tr>\n",
              "  </thead>\n",
              "  <tbody>\n",
              "    <tr>\n",
              "      <th>0</th>\n",
              "      <td>0</td>\n",
              "      <td>0</td>\n",
              "      <td>1</td>\n",
              "      <td>0</td>\n",
              "      <td>0</td>\n",
              "      <td>0</td>\n",
              "      <td>0</td>\n",
              "      <td>0</td>\n",
              "    </tr>\n",
              "    <tr>\n",
              "      <th>1</th>\n",
              "      <td>1</td>\n",
              "      <td>0</td>\n",
              "      <td>0</td>\n",
              "      <td>1</td>\n",
              "      <td>1</td>\n",
              "      <td>1</td>\n",
              "      <td>1</td>\n",
              "      <td>0</td>\n",
              "    </tr>\n",
              "    <tr>\n",
              "      <th>2</th>\n",
              "      <td>1</td>\n",
              "      <td>0</td>\n",
              "      <td>1</td>\n",
              "      <td>0</td>\n",
              "      <td>0</td>\n",
              "      <td>0</td>\n",
              "      <td>0</td>\n",
              "      <td>0</td>\n",
              "    </tr>\n",
              "    <tr>\n",
              "      <th>3</th>\n",
              "      <td>2</td>\n",
              "      <td>0</td>\n",
              "      <td>0</td>\n",
              "      <td>1</td>\n",
              "      <td>1</td>\n",
              "      <td>1</td>\n",
              "      <td>1</td>\n",
              "      <td>0</td>\n",
              "    </tr>\n",
              "    <tr>\n",
              "      <th>4</th>\n",
              "      <td>2</td>\n",
              "      <td>0</td>\n",
              "      <td>1</td>\n",
              "      <td>0</td>\n",
              "      <td>0</td>\n",
              "      <td>0</td>\n",
              "      <td>0</td>\n",
              "      <td>0</td>\n",
              "    </tr>\n",
              "  </tbody>\n",
              "</table>\n",
              "</div>"
            ],
            "text/plain": [
              "   Temperature of patient  ...  decision: Nephritis of renal pelvis origin\n",
              "0                       0  ...                                           0\n",
              "1                       1  ...                                           0\n",
              "2                       1  ...                                           0\n",
              "3                       2  ...                                           0\n",
              "4                       2  ...                                           0\n",
              "\n",
              "[5 rows x 8 columns]"
            ]
          },
          "metadata": {},
          "execution_count": 10
        }
      ]
    },
    {
      "cell_type": "code",
      "metadata": {
        "colab": {
          "base_uri": "https://localhost:8080/"
        },
        "id": "KfJzSjFYSX35",
        "outputId": "ddf4eb23-3323-4c8a-8257-efe7b3dcc6b6"
      },
      "source": [
        "data.isnull().sum()"
      ],
      "execution_count": null,
      "outputs": [
        {
          "output_type": "execute_result",
          "data": {
            "text/plain": [
              "Temperature of patient                                   0\n",
              "Occurrence of nausea                                     0\n",
              "Lumbar pain                                              0\n",
              "Urine pushing                                            0\n",
              "Micturition pains                                        0\n",
              "Burning of urethra, itch, swelling of urethra outlet     0\n",
              "decision: Inflammation of urinary bladder                0\n",
              "decision: Nephritis of renal pelvis origin               0\n",
              "dtype: int64"
            ]
          },
          "metadata": {},
          "execution_count": 6
        }
      ]
    },
    {
      "cell_type": "code",
      "metadata": {
        "id": "8hQL9bSpSgzg"
      },
      "source": [
        "sc = StandardScaler()"
      ],
      "execution_count": null,
      "outputs": []
    },
    {
      "cell_type": "code",
      "metadata": {
        "id": "f7-iE6YgSwd5"
      },
      "source": [
        "credit_df=data"
      ],
      "execution_count": null,
      "outputs": []
    },
    {
      "cell_type": "code",
      "metadata": {
        "id": "jn9bVApiSzaB"
      },
      "source": [
        "df1=credit_df[credit_df['decision: Nephritis of renal pelvis origin']==0]\n",
        "df2=credit_df[credit_df['decision: Nephritis of renal pelvis origin']==1]\n",
        "frame=[df1,df2]\n",
        "data=pd.concat(frame)"
      ],
      "execution_count": null,
      "outputs": []
    },
    {
      "cell_type": "code",
      "metadata": {
        "colab": {
          "base_uri": "https://localhost:8080/"
        },
        "id": "Qcs_brKiTaAy",
        "outputId": "e5b9c99f-5785-44f0-d78d-c09aff2e2739"
      },
      "source": [
        "data['decision: Nephritis of renal pelvis origin'].value_counts()"
      ],
      "execution_count": null,
      "outputs": [
        {
          "output_type": "execute_result",
          "data": {
            "text/plain": [
              "0    70\n",
              "1    50\n",
              "Name: decision: Nephritis of renal pelvis origin, dtype: int64"
            ]
          },
          "metadata": {},
          "execution_count": 14
        }
      ]
    },
    {
      "cell_type": "code",
      "metadata": {
        "colab": {
          "base_uri": "https://localhost:8080/",
          "height": 326
        },
        "id": "OyjAzvPYTome",
        "outputId": "3805745a-7765-4881-c9e0-79e9b964e945"
      },
      "source": [
        "X = data.drop(['decision: Nephritis of renal pelvis origin'],\n",
        "          axis=\"columns\")\n",
        "X.head()"
      ],
      "execution_count": null,
      "outputs": [
        {
          "output_type": "execute_result",
          "data": {
            "text/html": [
              "<div>\n",
              "<style scoped>\n",
              "    .dataframe tbody tr th:only-of-type {\n",
              "        vertical-align: middle;\n",
              "    }\n",
              "\n",
              "    .dataframe tbody tr th {\n",
              "        vertical-align: top;\n",
              "    }\n",
              "\n",
              "    .dataframe thead th {\n",
              "        text-align: right;\n",
              "    }\n",
              "</style>\n",
              "<table border=\"1\" class=\"dataframe\">\n",
              "  <thead>\n",
              "    <tr style=\"text-align: right;\">\n",
              "      <th></th>\n",
              "      <th>Temperature of patient</th>\n",
              "      <th>Occurrence of nausea</th>\n",
              "      <th>Lumbar pain</th>\n",
              "      <th>Urine pushing</th>\n",
              "      <th>Micturition pains</th>\n",
              "      <th>Burning of urethra, itch, swelling of urethra outlet</th>\n",
              "      <th>decision: Inflammation of urinary bladder</th>\n",
              "    </tr>\n",
              "  </thead>\n",
              "  <tbody>\n",
              "    <tr>\n",
              "      <th>0</th>\n",
              "      <td>0</td>\n",
              "      <td>0</td>\n",
              "      <td>1</td>\n",
              "      <td>0</td>\n",
              "      <td>0</td>\n",
              "      <td>0</td>\n",
              "      <td>0</td>\n",
              "    </tr>\n",
              "    <tr>\n",
              "      <th>1</th>\n",
              "      <td>1</td>\n",
              "      <td>0</td>\n",
              "      <td>0</td>\n",
              "      <td>1</td>\n",
              "      <td>1</td>\n",
              "      <td>1</td>\n",
              "      <td>1</td>\n",
              "    </tr>\n",
              "    <tr>\n",
              "      <th>2</th>\n",
              "      <td>1</td>\n",
              "      <td>0</td>\n",
              "      <td>1</td>\n",
              "      <td>0</td>\n",
              "      <td>0</td>\n",
              "      <td>0</td>\n",
              "      <td>0</td>\n",
              "    </tr>\n",
              "    <tr>\n",
              "      <th>3</th>\n",
              "      <td>2</td>\n",
              "      <td>0</td>\n",
              "      <td>0</td>\n",
              "      <td>1</td>\n",
              "      <td>1</td>\n",
              "      <td>1</td>\n",
              "      <td>1</td>\n",
              "    </tr>\n",
              "    <tr>\n",
              "      <th>4</th>\n",
              "      <td>2</td>\n",
              "      <td>0</td>\n",
              "      <td>1</td>\n",
              "      <td>0</td>\n",
              "      <td>0</td>\n",
              "      <td>0</td>\n",
              "      <td>0</td>\n",
              "    </tr>\n",
              "  </tbody>\n",
              "</table>\n",
              "</div>"
            ],
            "text/plain": [
              "   Temperature of patient  ...  decision: Inflammation of urinary bladder\n",
              "0                       0  ...                                          0\n",
              "1                       1  ...                                          1\n",
              "2                       1  ...                                          0\n",
              "3                       2  ...                                          1\n",
              "4                       2  ...                                          0\n",
              "\n",
              "[5 rows x 7 columns]"
            ]
          },
          "metadata": {},
          "execution_count": 15
        }
      ]
    },
    {
      "cell_type": "code",
      "metadata": {
        "colab": {
          "base_uri": "https://localhost:8080/"
        },
        "id": "sTvOKPheTsDy",
        "outputId": "e68cd038-32d3-4424-84c4-b544efee5ec4"
      },
      "source": [
        "y = data['decision: Nephritis of renal pelvis origin']\n",
        "y.head()"
      ],
      "execution_count": null,
      "outputs": [
        {
          "output_type": "execute_result",
          "data": {
            "text/plain": [
              "0    0\n",
              "1    0\n",
              "2    0\n",
              "3    0\n",
              "4    0\n",
              "Name: decision: Nephritis of renal pelvis origin, dtype: int64"
            ]
          },
          "metadata": {},
          "execution_count": 22
        }
      ]
    },
    {
      "cell_type": "code",
      "metadata": {
        "id": "HSEsKCjQTvF6"
      },
      "source": [
        "from sklearn.model_selection import train_test_split"
      ],
      "execution_count": null,
      "outputs": []
    },
    {
      "cell_type": "code",
      "metadata": {
        "id": "8svqyBYE2tKo"
      },
      "source": [
        "from sklearn.model_selection import train_test_split\n",
        "X_train, X_test, y_train, y_test = train_test_split(X, y, test_size=0.3, random_state=42)"
      ],
      "execution_count": null,
      "outputs": []
    },
    {
      "cell_type": "code",
      "metadata": {
        "id": "mN2-nd5kUXiH"
      },
      "source": [
        "#Scaling the independent features\n",
        "X_train = sc.fit_transform(X_train)\n",
        "X_test = sc.fit_transform(X_test)"
      ],
      "execution_count": null,
      "outputs": []
    },
    {
      "cell_type": "code",
      "metadata": {
        "colab": {
          "base_uri": "https://localhost:8080/"
        },
        "id": "VfpKUNYwUfx_",
        "outputId": "bc97f432-4a37-41be-9709-0ef73b17ea6a"
      },
      "source": [
        "print(\"Before OverSampling, counts of label '1':\",(y_train == 1).sum()) \n",
        "print(\"Before OverSampling, counts of label '0':\",(y_train == 0).sum())\n",
        "  \n",
        "# import SMOTE module from imblearn library \n",
        "# pip install imblearn (if you don't have imblearn in your system) \n",
        "#conda install -c conda-forge imbalanced-learn\n",
        "\n",
        "from imblearn.over_sampling import SMOTE\n",
        "sm = SMOTE(random_state = 2) \n",
        "X_train_res, y_train_res = sm.fit_sample(X_train, y_train.ravel()) \n",
        "  \n",
        "print('After OverSampling, the shape of train_X:',X_train_res.shape) \n",
        "print('After OverSampling, the shape of train_y:', y_train_res.shape) \n",
        "  \n",
        "print(\"After OverSampling, counts of label '1':\",sum(y_train_res == 1)) \n",
        "print(\"After OverSampling, counts of label '0':\",sum(y_train_res == 0))"
      ],
      "execution_count": null,
      "outputs": [
        {
          "output_type": "stream",
          "name": "stdout",
          "text": [
            "Before OverSampling, counts of label '1': 36\n",
            "Before OverSampling, counts of label '0': 48\n",
            "After OverSampling, the shape of train_X: (96, 7)\n",
            "After OverSampling, the shape of train_y: (96,)\n",
            "After OverSampling, counts of label '1': 48\n",
            "After OverSampling, counts of label '0': 48\n"
          ]
        }
      ]
    },
    {
      "cell_type": "code",
      "metadata": {
        "id": "kHtk5qv3UiB8"
      },
      "source": [
        "from sklearn.svm import SVC\n",
        "from sklearn.metrics import accuracy_score\n",
        "from sklearn.metrics import classification_report, confusion_matrix"
      ],
      "execution_count": null,
      "outputs": []
    },
    {
      "cell_type": "code",
      "metadata": {
        "id": "Wzc_3Sc-U388"
      },
      "source": [
        "def validation(clf,X_train, y_train):\n",
        "    scores = cross_validate(clf, X_train, y_train,cv=8, return_train_score=True)\n",
        "    return scores"
      ],
      "execution_count": null,
      "outputs": []
    },
    {
      "cell_type": "code",
      "metadata": {
        "id": "y5I9E5v-U7Tu"
      },
      "source": [
        "def roc_auc(yTest,y_pred):\n",
        "#     sns.set()\n",
        "    fpr, tpr, thresholds = roc_curve(yTest, y_pred)\n",
        "    roc_auc = auc(fpr,tpr)\n",
        "    plt.title('Receiver Operating Characteristic')\n",
        "    plt.plot(fpr, tpr, 'b',label='AUC = %0.3f'% roc_auc)\n",
        "    plt.legend(loc='lower right')\n",
        "    plt.plot([0,1],[0,1],'r--')\n",
        "    plt.xlim([-0.1,1.0])\n",
        "    plt.ylim([-0.1,1.01])\n",
        "    plt.ylabel('True Positive Rate')\n",
        "    plt.xlabel('False Positive Rate')\n",
        "    plt.show()"
      ],
      "execution_count": null,
      "outputs": []
    },
    {
      "cell_type": "code",
      "metadata": {
        "id": "YKpabGshU-9N"
      },
      "source": [
        "model_linear = SVC(kernel='linear', C=0.01)\n",
        "score_1_linear = validation(model_linear, X_train, y_train)\n",
        "model_linear = SVC(kernel='linear', C=0.1)\n",
        "score_2_linear = validation(model_linear, X_train, y_train)\n",
        "model_linear = SVC(kernel='linear', C=0.5)\n",
        "score_3_linear = validation(model_linear, X_train, y_train)\n",
        "model_linear = SVC(kernel='linear', C=1)\n",
        "score_4_linear = validation(model_linear, X_train, y_train)\n",
        "model_linear = SVC(kernel='linear', C=5)\n",
        "score_5_linear = validation(model_linear, X_train, y_train)\n",
        "model_linear = SVC(kernel='linear', C=10)\n",
        "score_6_linear = validation(model_linear, X_train, y_train)"
      ],
      "execution_count": null,
      "outputs": []
    },
    {
      "cell_type": "code",
      "metadata": {
        "id": "SIsPLcfAVCz1"
      },
      "source": [
        "score_1_linear=pd.DataFrame.from_dict(score_1_linear)\n",
        "score_2_linear=pd.DataFrame.from_dict(score_2_linear)\n",
        "score_3_linear=pd.DataFrame.from_dict(score_3_linear)\n",
        "score_4_linear=pd.DataFrame.from_dict(score_4_linear)\n",
        "score_5_linear=pd.DataFrame.from_dict(score_5_linear)\n",
        "score_6_linear=pd.DataFrame.from_dict(score_6_linear)"
      ],
      "execution_count": null,
      "outputs": []
    },
    {
      "cell_type": "code",
      "metadata": {
        "colab": {
          "base_uri": "https://localhost:8080/"
        },
        "id": "po5LKM3IVGVm",
        "outputId": "27ff43e8-f51f-4e13-c2f7-3176b9ad18ab"
      },
      "source": [
        "score_5_linear['test_score'].mean()"
      ],
      "execution_count": null,
      "outputs": [
        {
          "output_type": "execute_result",
          "data": {
            "text/plain": [
              "1.0"
            ]
          },
          "metadata": {},
          "execution_count": 31
        }
      ]
    },
    {
      "cell_type": "code",
      "metadata": {
        "id": "qDlysO71VJl9"
      },
      "source": [
        "s1_linear_train=[score_1_linear[['train_score']].mean(axis=0),score_2_linear[['train_score']].mean(axis=0),\n",
        "                score_3_linear[['train_score']].mean(axis=0),score_4_linear[['train_score']].mean(axis=0),\n",
        "                score_5_linear[['train_score']].mean(axis=0),score_6_linear[['train_score']].mean(axis=0)]  \n",
        "\n",
        "s1_linear_test=[score_1_linear[['test_score']].mean(axis=0),score_2_linear[['test_score']].mean(axis=0),\n",
        "                score_3_linear[['test_score']].mean(axis=0),score_4_linear[['test_score']].mean(axis=0),\n",
        "                score_5_linear[['test_score']].mean(axis=0),score_6_linear[['test_score']].mean(axis=0)]"
      ],
      "execution_count": null,
      "outputs": []
    },
    {
      "cell_type": "code",
      "metadata": {
        "id": "HYimcqdCVMHF"
      },
      "source": [
        "## Learning curve for Train and Test accuracy for Linear SVM function for various values of C\n",
        "def train_cv_plot(c,s1_linear_train,s1_linear_test):\n",
        "    plt.plot(c,s1_linear_train,label='train',marker='o',markersize=4)\n",
        "    plt.plot(c,s1_linear_test,label='cv',c='r',marker='o',markersize=4)\n",
        "#     plot.set_xlabel(\"C(Regularization Parameter)\", fontsize = 12)\n",
        "    plt.xlabel(\"C(Regularization Parameter)\")\n",
        "    plt.ylabel(\"Accuracy\")\n",
        "#     plot1.set_title('Accuracy', fontsize = 16)\n",
        "    plt.legend(loc='best')\n",
        "    plt.title(\"Train and CrossValidation accuracy for SVM Linear kernel as a function of C\")"
      ],
      "execution_count": null,
      "outputs": []
    },
    {
      "cell_type": "code",
      "metadata": {
        "colab": {
          "base_uri": "https://localhost:8080/",
          "height": 295
        },
        "id": "S_O6xztPVP_O",
        "outputId": "b622a08c-ef4a-4777-d377-fa66a78c0a81"
      },
      "source": [
        "c=[0.01,0.1,0.5,1,5,10]\n",
        "train_cv_plot(c,s1_linear_train,s1_linear_test)"
      ],
      "execution_count": null,
      "outputs": [
        {
          "output_type": "display_data",
          "data": {
            "image/png": "[encoded data removed]",
            "text/plain": [
              "<Figure size 432x288 with 1 Axes>"
            ]
          },
          "metadata": {
            "needs_background": "light"
          }
        }
      ]
    },
    {
      "cell_type": "code",
      "metadata": {
        "id": "KsPpP4lOVU13"
      },
      "source": [
        "# Rbf kernal\n",
        "model_linear = SVC(kernel='rbf', C=0.01)\n",
        "score_1_rbf = validation(model_linear, X_train, y_train)\n",
        "model_linear = SVC(kernel='rbf', C=0.1)\n",
        "score_2_rbf = validation(model_linear, X_train, y_train)\n",
        "model_linear = SVC(kernel='rbf', C=0.5)\n",
        "score_3_rbf = validation(model_linear, X_train, y_train)\n",
        "model_linear = SVC(kernel='rbf', C=1)\n",
        "score_4_rbf = validation(model_linear, X_train, y_train)\n",
        "model_linear = SVC(kernel='rbf', C=5)\n",
        "score_5_rbf = validation(model_linear, X_train, y_train)\n",
        "model_linear = SVC(kernel='rbf', C=50)\n",
        "score_6_rbf = validation(model_linear, X_train, y_train)\n"
      ],
      "execution_count": null,
      "outputs": []
    },
    {
      "cell_type": "code",
      "metadata": {
        "id": "Qrm0eNiLVbxY"
      },
      "source": [
        "score_1_rbf=pd.DataFrame.from_dict(score_1_rbf)\n",
        "score_2_rbf=pd.DataFrame.from_dict(score_2_rbf)\n",
        "score_3_rbf=pd.DataFrame.from_dict(score_3_rbf)\n",
        "score_4_rbf=pd.DataFrame.from_dict(score_4_rbf)\n",
        "score_5_rbf=pd.DataFrame.from_dict(score_5_rbf)\n",
        "score_6_rbf=pd.DataFrame.from_dict(score_6_rbf)"
      ],
      "execution_count": null,
      "outputs": []
    },
    {
      "cell_type": "code",
      "metadata": {
        "colab": {
          "base_uri": "https://localhost:8080/",
          "height": 299
        },
        "id": "hkwQkFIdVepG",
        "outputId": "2f3f8df5-cb9e-4625-8091-f856c1076d1c"
      },
      "source": [
        "score_2_rbf"
      ],
      "execution_count": null,
      "outputs": [
        {
          "output_type": "execute_result",
          "data": {
            "text/html": [
              "<div>\n",
              "<style scoped>\n",
              "    .dataframe tbody tr th:only-of-type {\n",
              "        vertical-align: middle;\n",
              "    }\n",
              "\n",
              "    .dataframe tbody tr th {\n",
              "        vertical-align: top;\n",
              "    }\n",
              "\n",
              "    .dataframe thead th {\n",
              "        text-align: right;\n",
              "    }\n",
              "</style>\n",
              "<table border=\"1\" class=\"dataframe\">\n",
              "  <thead>\n",
              "    <tr style=\"text-align: right;\">\n",
              "      <th></th>\n",
              "      <th>fit_time</th>\n",
              "      <th>score_time</th>\n",
              "      <th>test_score</th>\n",
              "      <th>train_score</th>\n",
              "    </tr>\n",
              "  </thead>\n",
              "  <tbody>\n",
              "    <tr>\n",
              "      <th>0</th>\n",
              "      <td>0.000855</td>\n",
              "      <td>0.000385</td>\n",
              "      <td>1.0</td>\n",
              "      <td>1.0</td>\n",
              "    </tr>\n",
              "    <tr>\n",
              "      <th>1</th>\n",
              "      <td>0.000834</td>\n",
              "      <td>0.000381</td>\n",
              "      <td>1.0</td>\n",
              "      <td>1.0</td>\n",
              "    </tr>\n",
              "    <tr>\n",
              "      <th>2</th>\n",
              "      <td>0.000816</td>\n",
              "      <td>0.000376</td>\n",
              "      <td>1.0</td>\n",
              "      <td>1.0</td>\n",
              "    </tr>\n",
              "    <tr>\n",
              "      <th>3</th>\n",
              "      <td>0.000857</td>\n",
              "      <td>0.000390</td>\n",
              "      <td>1.0</td>\n",
              "      <td>1.0</td>\n",
              "    </tr>\n",
              "    <tr>\n",
              "      <th>4</th>\n",
              "      <td>0.000827</td>\n",
              "      <td>0.000398</td>\n",
              "      <td>1.0</td>\n",
              "      <td>1.0</td>\n",
              "    </tr>\n",
              "    <tr>\n",
              "      <th>5</th>\n",
              "      <td>0.000831</td>\n",
              "      <td>0.000374</td>\n",
              "      <td>1.0</td>\n",
              "      <td>1.0</td>\n",
              "    </tr>\n",
              "    <tr>\n",
              "      <th>6</th>\n",
              "      <td>0.000828</td>\n",
              "      <td>0.000373</td>\n",
              "      <td>1.0</td>\n",
              "      <td>1.0</td>\n",
              "    </tr>\n",
              "    <tr>\n",
              "      <th>7</th>\n",
              "      <td>0.000871</td>\n",
              "      <td>0.000378</td>\n",
              "      <td>1.0</td>\n",
              "      <td>1.0</td>\n",
              "    </tr>\n",
              "  </tbody>\n",
              "</table>\n",
              "</div>"
            ],
            "text/plain": [
              "   fit_time  score_time  test_score  train_score\n",
              "0  0.000855    0.000385         1.0          1.0\n",
              "1  0.000834    0.000381         1.0          1.0\n",
              "2  0.000816    0.000376         1.0          1.0\n",
              "3  0.000857    0.000390         1.0          1.0\n",
              "4  0.000827    0.000398         1.0          1.0\n",
              "5  0.000831    0.000374         1.0          1.0\n",
              "6  0.000828    0.000373         1.0          1.0\n",
              "7  0.000871    0.000378         1.0          1.0"
            ]
          },
          "metadata": {},
          "execution_count": 37
        }
      ]
    },
    {
      "cell_type": "code",
      "metadata": {
        "id": "HhUBWnhYVibX"
      },
      "source": [
        "s1_rbf_train=[score_1_rbf[['train_score']].mean(axis=0),score_2_rbf[['train_score']].mean(axis=0),\n",
        "                score_3_rbf[['train_score']].mean(axis=0),score_4_rbf[['train_score']].mean(axis=0),\n",
        "                score_5_rbf[['train_score']].mean(axis=0),score_6_rbf[['train_score']].mean(axis=0)]  \n",
        "\n",
        "s1_rbf_test=[score_1_rbf[['test_score']].mean(axis=0),score_2_rbf[['test_score']].mean(axis=0),\n",
        "                score_3_rbf[['test_score']].mean(axis=0),score_4_rbf[['test_score']].mean(axis=0),\n",
        "                score_5_rbf[['test_score']].mean(axis=0),score_6_rbf[['test_score']].mean(axis=0)]"
      ],
      "execution_count": null,
      "outputs": []
    },
    {
      "cell_type": "code",
      "metadata": {
        "id": "W_1AJeSsVl8-"
      },
      "source": [
        "## Learning curve for Train and Test accuracy for Linear SVM function for various values of C\n",
        "def train_cv_plot_rbf(c,s1_linear_train,s1_linear_test):\n",
        "    plt.plot(c,s1_linear_train,label='train',marker='o',markersize=4)\n",
        "    plt.plot(c,s1_linear_test,label='cv',c='r',marker='o',markersize=4)\n",
        "#     plot.set_xlabel(\"C(Regularization Parameter)\", fontsize = 12)\n",
        "    plt.xlabel(\"C(Regularization Parameter)\")\n",
        "    plt.ylabel(\"Accuracy\")\n",
        "#     plot1.set_title('Accuracy', fontsize = 16)\n",
        "    plt.legend(loc='best')\n",
        "    plt.title(\"Train and CrossValidation accuracy for SVM RBf kernel as a function of C\")"
      ],
      "execution_count": null,
      "outputs": []
    },
    {
      "cell_type": "code",
      "metadata": {
        "colab": {
          "base_uri": "https://localhost:8080/",
          "height": 295
        },
        "id": "sILtVjSMVoM-",
        "outputId": "085f9b7c-123d-4357-caa1-cd049f43bd0f"
      },
      "source": [
        "c=[0.01,0.1,0.5,1,5,10]\n",
        "train_cv_plot_rbf(c,s1_rbf_train,s1_rbf_test)"
      ],
      "execution_count": null,
      "outputs": [
        {
          "output_type": "display_data",
          "data": {
            "image/png": "[encoded data removed]",
            "text/plain": [
              "<Figure size 432x288 with 1 Axes>"
            ]
          },
          "metadata": {
            "needs_background": "light"
          }
        }
      ]
    },
    {
      "cell_type": "code",
      "metadata": {
        "id": "LylLhYVpVsFW"
      },
      "source": [
        "model_linear = SVC(kernel='sigmoid', C=0.001)\n",
        "score_1_sig = validation(model_linear, X_train, y_train)\n",
        "model_linear = SVC(kernel='sigmoid', C=0.003)\n",
        "score_2_sig = validation(model_linear, X_train, y_train)\n",
        "model_linear = SVC(kernel='sigmoid', C=0.005)\n",
        "score_3_sig = validation(model_linear, X_train, y_train)\n",
        "model_linear = SVC(kernel='sigmoid', C=0.01)\n",
        "score_4_sig = validation(model_linear, X_train, y_train)\n",
        "model_linear = SVC(kernel='sigmoid', C=0.05)\n",
        "score_5_sig = validation(model_linear, X_train, y_train)\n",
        "model_linear = SVC(kernel='sigmoid', C=1)\n",
        "score_6_sig = validation(model_linear, X_train, y_train)\n",
        "model_linear = SVC(kernel='sigmoid', C=5)\n",
        "score_7_sig = validation(model_linear, X_train, y_train)"
      ],
      "execution_count": null,
      "outputs": []
    },
    {
      "cell_type": "code",
      "metadata": {
        "id": "lsIdhG9GVxi-"
      },
      "source": [
        "score_1_sig=pd.DataFrame.from_dict(score_1_sig)\n",
        "score_2_sig=pd.DataFrame.from_dict(score_2_sig)\n",
        "score_3_sig=pd.DataFrame.from_dict(score_3_sig)\n",
        "score_4_sig=pd.DataFrame.from_dict(score_4_sig)\n",
        "score_5_sig=pd.DataFrame.from_dict(score_5_sig)\n",
        "score_6_sig=pd.DataFrame.from_dict(score_6_sig)\n",
        "score_7_sig=pd.DataFrame.from_dict(score_7_sig)"
      ],
      "execution_count": null,
      "outputs": []
    },
    {
      "cell_type": "code",
      "metadata": {
        "id": "_Snv3hLMVzp_"
      },
      "source": [
        "s1_sig_train=[score_1_sig[['train_score']].mean(axis=0),score_2_sig[['train_score']].mean(axis=0),\n",
        "                score_3_sig[['train_score']].mean(axis=0),score_4_sig[['train_score']].mean(axis=0),\n",
        "                score_5_sig[['train_score']].mean(axis=0),score_6_sig[['train_score']].mean(axis=0),score_7_sig[['train_score']].mean(axis=0)]  \n",
        "\n",
        "s1_sig_test=[score_1_sig[['test_score']].mean(axis=0),score_2_sig[['test_score']].mean(axis=0),\n",
        "                score_3_sig[['test_score']].mean(axis=0),score_4_sig[['test_score']].mean(axis=0),\n",
        "                score_5_sig[['test_score']].mean(axis=0),score_6_sig[['test_score']].mean(axis=0),score_7_sig[['test_score']].mean(axis=0)]"
      ],
      "execution_count": null,
      "outputs": []
    },
    {
      "cell_type": "code",
      "metadata": {
        "id": "d5CEKyFxV54o"
      },
      "source": [
        "## Learning curve for Train and Test accuracy for Linear SVM function for various values of C\n",
        "def train_cv_plot_sig(c,s1_linear_train,s1_linear_test):\n",
        "    plt.plot(c,s1_linear_train,label='train',marker='o',markersize=4)\n",
        "    plt.plot(c,s1_linear_test,label='cv',c='r',marker='o',markersize=4)\n",
        "#     plot.set_xlabel(\"C(Regularization Parameter)\", fontsize = 12)\n",
        "    plt.xlabel(\"C(Regularization Parameter)\")\n",
        "    plt.ylabel(\"Accuracy\")\n",
        "#     plot1.set_title('Accuracy', fontsize = 16)\n",
        "    plt.legend(loc='best')\n",
        "    plt.title(\"Train and CrossValidation accuracy for SVM Sigmoid kernel as a function of C\")"
      ],
      "execution_count": null,
      "outputs": []
    },
    {
      "cell_type": "code",
      "metadata": {
        "colab": {
          "base_uri": "https://localhost:8080/",
          "height": 295
        },
        "id": "PnepzfIKV7Ep",
        "outputId": "092712c5-3c73-4892-82a4-cf295fb263f7"
      },
      "source": [
        "c=[0.001,0.003,0.005,0.01,0.5,1,5]\n",
        "train_cv_plot_sig(c,s1_sig_train,s1_sig_test)"
      ],
      "execution_count": null,
      "outputs": [
        {
          "output_type": "display_data",
          "data": {
            "image/png": "[encoded data removed]",
            "text/plain": [
              "<Figure size 432x288 with 1 Axes>"
            ]
          },
          "metadata": {
            "needs_background": "light"
          }
        }
      ]
    },
    {
      "cell_type": "code",
      "metadata": {
        "colab": {
          "base_uri": "https://localhost:8080/"
        },
        "id": "eMd5tY3IV923",
        "outputId": "9a417ab1-20d0-4727-c703-19ed8f35fcae"
      },
      "source": [
        "#### Fitting the functions on the complete training set with best parameters\n",
        "## SVM Functions \n",
        "clf_linear_1 = svm.SVC(kernel='linear', C=0.1)\n",
        "clf_linear_1.fit(X_train,y_train)\n",
        "\n",
        "clf_rbf_1 = svm.SVC(kernel='rbf', C=0.1)\n",
        "clf_rbf_1.fit(X_train,y_train)\n",
        "\n",
        "clf_sigmoid_1 = svm.SVC(kernel='sigmoid', C=0.003)\n",
        "clf_sigmoid_1.fit(X_train,y_train)"
      ],
      "execution_count": null,
      "outputs": [
        {
          "output_type": "execute_result",
          "data": {
            "text/plain": [
              "SVC(C=0.003, break_ties=False, cache_size=200, class_weight=None, coef0=0.0,\n",
              "    decision_function_shape='ovr', degree=3, gamma='scale', kernel='sigmoid',\n",
              "    max_iter=-1, probability=False, random_state=None, shrinking=True,\n",
              "    tol=0.001, verbose=False)"
            ]
          },
          "metadata": {},
          "execution_count": 74
        }
      ]
    },
    {
      "cell_type": "code",
      "metadata": {
        "id": "pq4DDIF5WAl_"
      },
      "source": [
        "y_pred_linear=clf_linear_1.predict(X_test)\n",
        "y_pred_rbf=clf_rbf_1.predict(X_test)\n",
        "y_pred_sigmoid=clf_sigmoid_1.predict(X_test)"
      ],
      "execution_count": null,
      "outputs": []
    },
    {
      "cell_type": "code",
      "metadata": {
        "colab": {
          "base_uri": "https://localhost:8080/"
        },
        "id": "pB69MOFAWDq4",
        "outputId": "787ea2c9-9746-49d2-9b62-00ffc3719420"
      },
      "source": [
        "## Classification report for SVM-Linear\n",
        "print(confusion_matrix(y_test,y_pred_linear))  \n",
        "print(classification_report(y_test,y_pred_linear))\n",
        "print(accuracy_score(y_test,y_pred_linear))"
      ],
      "execution_count": null,
      "outputs": [
        {
          "output_type": "stream",
          "name": "stdout",
          "text": [
            "[[22  0]\n",
            " [ 0 14]]\n",
            "              precision    recall  f1-score   support\n",
            "\n",
            "           0       1.00      1.00      1.00        22\n",
            "           1       1.00      1.00      1.00        14\n",
            "\n",
            "    accuracy                           1.00        36\n",
            "   macro avg       1.00      1.00      1.00        36\n",
            "weighted avg       1.00      1.00      1.00        36\n",
            "\n",
            "1.0\n"
          ]
        }
      ]
    },
    {
      "cell_type": "code",
      "metadata": {
        "colab": {
          "base_uri": "https://localhost:8080/",
          "height": 295
        },
        "id": "kNwaPdJ0WHgn",
        "outputId": "a3a3e408-212a-455a-d0e0-08a3e9a1d011"
      },
      "source": [
        "roc_auc(y_pred_linear,y_test)"
      ],
      "execution_count": null,
      "outputs": [
        {
          "output_type": "display_data",
          "data": {
            "image/png": "[encoded data removed]",
            "text/plain": [
              "<Figure size 432x288 with 1 Axes>"
            ]
          },
          "metadata": {
            "needs_background": "light"
          }
        }
      ]
    },
    {
      "cell_type": "code",
      "metadata": {
        "colab": {
          "base_uri": "https://localhost:8080/"
        },
        "id": "wCTAJKMWWMGQ",
        "outputId": "0f40205f-332e-44b6-c963-e8e2754234a6"
      },
      "source": [
        "## Classification report for SVM-rbf\n",
        "print(confusion_matrix(y_test,y_pred_rbf))  \n",
        "print(classification_report(y_test,y_pred_rbf))\n",
        "print(accuracy_score(y_test,y_pred_rbf))"
      ],
      "execution_count": null,
      "outputs": [
        {
          "output_type": "stream",
          "name": "stdout",
          "text": [
            "[[22  0]\n",
            " [ 0 14]]\n",
            "              precision    recall  f1-score   support\n",
            "\n",
            "           0       1.00      1.00      1.00        22\n",
            "           1       1.00      1.00      1.00        14\n",
            "\n",
            "    accuracy                           1.00        36\n",
            "   macro avg       1.00      1.00      1.00        36\n",
            "weighted avg       1.00      1.00      1.00        36\n",
            "\n",
            "1.0\n"
          ]
        }
      ]
    },
    {
      "cell_type": "code",
      "metadata": {
        "colab": {
          "base_uri": "https://localhost:8080/",
          "height": 295
        },
        "id": "jh2g0TRUWRT_",
        "outputId": "680179fe-a917-4a89-9533-d098fe648972"
      },
      "source": [
        "roc_auc(y_pred_rbf,y_test)"
      ],
      "execution_count": null,
      "outputs": [
        {
          "output_type": "display_data",
          "data": {
            "image/png": "[encoded data removed]",
            "text/plain": [
              "<Figure size 432x288 with 1 Axes>"
            ]
          },
          "metadata": {
            "needs_background": "light"
          }
        }
      ]
    },
    {
      "cell_type": "code",
      "metadata": {
        "colab": {
          "base_uri": "https://localhost:8080/"
        },
        "id": "I3ThRNBhWUG_",
        "outputId": "d5e7be12-b3d6-44fa-ce89-37672d61951e"
      },
      "source": [
        "## Classification report for SVM-sigmoid\n",
        "print(confusion_matrix(y_test,y_pred_sigmoid))  \n",
        "print(classification_report(y_test,y_pred_sigmoid))\n",
        "print(accuracy_score(y_test,y_pred_sigmoid))"
      ],
      "execution_count": null,
      "outputs": [
        {
          "output_type": "stream",
          "name": "stdout",
          "text": [
            "[[22  0]\n",
            " [14  0]]\n",
            "              precision    recall  f1-score   support\n",
            "\n",
            "           0       0.61      1.00      0.76        22\n",
            "           1       0.00      0.00      0.00        14\n",
            "\n",
            "    accuracy                           0.61        36\n",
            "   macro avg       0.31      0.50      0.38        36\n",
            "weighted avg       0.37      0.61      0.46        36\n",
            "\n",
            "0.6111111111111112\n"
          ]
        }
      ]
    },
    {
      "cell_type": "code",
      "metadata": {
        "colab": {
          "base_uri": "https://localhost:8080/",
          "height": 295
        },
        "id": "DeY3Yu9yWWft",
        "outputId": "7b1873b8-84ea-4f44-b625-5767e9847cd5"
      },
      "source": [
        "roc_auc(y_pred_rbf,y_test)"
      ],
      "execution_count": null,
      "outputs": [
        {
          "output_type": "display_data",
          "data": {
            "image/png": "[encoded data removed]",
            "text/plain": [
              "<Figure size 432x288 with 1 Axes>"
            ]
          },
          "metadata": {
            "needs_background": "light"
          }
        }
      ]
    },
    {
      "cell_type": "code",
      "metadata": {
        "id": "MyEANV0IWYca"
      },
      "source": [
        "# Decision Tree\n",
        "def train_using_gini(X_train, y_train, depth): \n",
        "  \n",
        "    clf_gini = DecisionTreeClassifier(criterion = \"gini\", \n",
        "            random_state = 42,max_depth=depth) \n",
        "  \n",
        "    clf_gini.fit(X_train, y_train) #training\n",
        "    return clf_gini"
      ],
      "execution_count": null,
      "outputs": []
    },
    {
      "cell_type": "code",
      "metadata": {
        "id": "_HCSzzahWn5P"
      },
      "source": [
        "def prediction(X_test, clf_object): \n",
        "  \n",
        "    y_pred_tree = clf_object.predict(X_test)  \n",
        "    return y_pred_tree"
      ],
      "execution_count": null,
      "outputs": []
    },
    {
      "cell_type": "code",
      "metadata": {
        "id": "veZFoSuqWsb2"
      },
      "source": [
        "def accuracy(y_test, y_pred): \n",
        "      \n",
        "    print(\"Confusion Matrix is: \",confusion_matrix(y_test, y_pred)) \n",
        "      \n",
        "    print (\"Accuracy Score is: \", accuracy_score(y_test,y_pred)*100) \n",
        "      \n",
        "    print(\"Classsification Report is: \", classification_report(y_test, y_pred))"
      ],
      "execution_count": null,
      "outputs": []
    },
    {
      "cell_type": "code",
      "metadata": {
        "id": "SxsvJ3cNWwFN"
      },
      "source": [
        "CC_alpha=[0.00001,0.0001,0.001,0.01,0.05,0.1,0.4]\n",
        "model_linear = DecisionTreeClassifier(criterion = \"gini\", \n",
        "            random_state = 42,ccp_alpha=0.00001)\n",
        "score_1_dt = validation(model_linear, X_train, y_train)\n",
        "model_linear = DecisionTreeClassifier(criterion = \"gini\", \n",
        "            random_state = 42,ccp_alpha=0.0001)\n",
        "score_2_dt = validation(model_linear, X_train, y_train)\n",
        "\n",
        "\n",
        "model_linear = DecisionTreeClassifier(criterion = \"gini\", \n",
        "            random_state = 42,ccp_alpha=0.001)\n",
        "score_3_dt = validation(model_linear, X_train, y_train)\n",
        "model_linear = DecisionTreeClassifier(criterion = \"gini\", \n",
        "            random_state = 42,ccp_alpha=0.01)\n",
        "score_4_dt = validation(model_linear, X_train, y_train)\n",
        "model_linear = DecisionTreeClassifier(criterion = \"gini\", \n",
        "            random_state = 42,ccp_alpha=0.05)\n",
        "score_5_dt = validation(model_linear, X_train, y_train)\n",
        "model_linear = DecisionTreeClassifier(criterion = \"gini\", \n",
        "            random_state = 42,ccp_alpha=0.1)\n",
        "score_6_dt = validation(model_linear, X_train, y_train)\n",
        "model_linear = DecisionTreeClassifier(criterion = \"gini\", \n",
        "            random_state = 42,ccp_alpha=0.4)\n",
        "score_7_dt = validation(model_linear, X_train, y_train)"
      ],
      "execution_count": null,
      "outputs": []
    },
    {
      "cell_type": "code",
      "metadata": {
        "id": "ICsg0iaGWyCe"
      },
      "source": [
        "score_1_dt=pd.DataFrame.from_dict(score_1_dt)\n",
        "score_2_dt=pd.DataFrame.from_dict(score_2_dt)\n",
        "score_3_dt=pd.DataFrame.from_dict(score_3_dt)\n",
        "score_4_dt=pd.DataFrame.from_dict(score_4_dt)\n",
        "score_5_dt=pd.DataFrame.from_dict(score_5_dt)\n",
        "score_6_dt=pd.DataFrame.from_dict(score_6_dt)\n",
        "score_7_dt=pd.DataFrame.from_dict(score_7_dt)"
      ],
      "execution_count": null,
      "outputs": []
    },
    {
      "cell_type": "code",
      "metadata": {
        "colab": {
          "base_uri": "https://localhost:8080/",
          "height": 299
        },
        "id": "fqz0g9TuW2HZ",
        "outputId": "2fdddedc-0f75-4c25-dbd6-a06bf7ce0ac5"
      },
      "source": [
        "score_2_dt"
      ],
      "execution_count": null,
      "outputs": [
        {
          "output_type": "execute_result",
          "data": {
            "text/html": [
              "<div>\n",
              "<style scoped>\n",
              "    .dataframe tbody tr th:only-of-type {\n",
              "        vertical-align: middle;\n",
              "    }\n",
              "\n",
              "    .dataframe tbody tr th {\n",
              "        vertical-align: top;\n",
              "    }\n",
              "\n",
              "    .dataframe thead th {\n",
              "        text-align: right;\n",
              "    }\n",
              "</style>\n",
              "<table border=\"1\" class=\"dataframe\">\n",
              "  <thead>\n",
              "    <tr style=\"text-align: right;\">\n",
              "      <th></th>\n",
              "      <th>fit_time</th>\n",
              "      <th>score_time</th>\n",
              "      <th>test_score</th>\n",
              "      <th>train_score</th>\n",
              "    </tr>\n",
              "  </thead>\n",
              "  <tbody>\n",
              "    <tr>\n",
              "      <th>0</th>\n",
              "      <td>0.001004</td>\n",
              "      <td>0.000357</td>\n",
              "      <td>1.0</td>\n",
              "      <td>1.0</td>\n",
              "    </tr>\n",
              "    <tr>\n",
              "      <th>1</th>\n",
              "      <td>0.001001</td>\n",
              "      <td>0.000355</td>\n",
              "      <td>1.0</td>\n",
              "      <td>1.0</td>\n",
              "    </tr>\n",
              "    <tr>\n",
              "      <th>2</th>\n",
              "      <td>0.000992</td>\n",
              "      <td>0.000379</td>\n",
              "      <td>1.0</td>\n",
              "      <td>1.0</td>\n",
              "    </tr>\n",
              "    <tr>\n",
              "      <th>3</th>\n",
              "      <td>0.000933</td>\n",
              "      <td>0.000382</td>\n",
              "      <td>1.0</td>\n",
              "      <td>1.0</td>\n",
              "    </tr>\n",
              "    <tr>\n",
              "      <th>4</th>\n",
              "      <td>0.000946</td>\n",
              "      <td>0.000480</td>\n",
              "      <td>1.0</td>\n",
              "      <td>1.0</td>\n",
              "    </tr>\n",
              "    <tr>\n",
              "      <th>5</th>\n",
              "      <td>0.000985</td>\n",
              "      <td>0.000334</td>\n",
              "      <td>0.9</td>\n",
              "      <td>1.0</td>\n",
              "    </tr>\n",
              "    <tr>\n",
              "      <th>6</th>\n",
              "      <td>0.000931</td>\n",
              "      <td>0.000348</td>\n",
              "      <td>1.0</td>\n",
              "      <td>1.0</td>\n",
              "    </tr>\n",
              "    <tr>\n",
              "      <th>7</th>\n",
              "      <td>0.000934</td>\n",
              "      <td>0.000355</td>\n",
              "      <td>0.9</td>\n",
              "      <td>1.0</td>\n",
              "    </tr>\n",
              "  </tbody>\n",
              "</table>\n",
              "</div>"
            ],
            "text/plain": [
              "   fit_time  score_time  test_score  train_score\n",
              "0  0.001004    0.000357         1.0          1.0\n",
              "1  0.001001    0.000355         1.0          1.0\n",
              "2  0.000992    0.000379         1.0          1.0\n",
              "3  0.000933    0.000382         1.0          1.0\n",
              "4  0.000946    0.000480         1.0          1.0\n",
              "5  0.000985    0.000334         0.9          1.0\n",
              "6  0.000931    0.000348         1.0          1.0\n",
              "7  0.000934    0.000355         0.9          1.0"
            ]
          },
          "metadata": {},
          "execution_count": 87
        }
      ]
    },
    {
      "cell_type": "code",
      "metadata": {
        "id": "y-4CgicpaJHX"
      },
      "source": [
        "s1_dt_train=[score_1_dt[['train_score']].mean(axis=0),score_2_dt[['train_score']].mean(axis=0),\n",
        "                score_3_dt[['train_score']].mean(axis=0),score_4_dt[['train_score']].mean(axis=0),\n",
        "                score_5_dt[['train_score']].mean(axis=0),score_6_dt[['train_score']].mean(axis=0),score_7_dt[['train_score']].mean(axis=0)]  \n",
        "\n",
        "s1_dt_test=[score_1_dt[['test_score']].mean(axis=0),score_2_dt[['test_score']].mean(axis=0),\n",
        "                score_3_dt[['test_score']].mean(axis=0),score_4_dt[['test_score']].mean(axis=0),\n",
        "                score_5_dt[['test_score']].mean(axis=0),score_6_dt[['test_score']].mean(axis=0),score_7_dt[['test_score']].mean(axis=0)]"
      ],
      "execution_count": null,
      "outputs": []
    },
    {
      "cell_type": "code",
      "metadata": {
        "colab": {
          "base_uri": "https://localhost:8080/",
          "height": 296
        },
        "id": "si3P8YrGa6YX",
        "outputId": "9e15474d-5fbd-40d5-d22f-cd21cf9125e6"
      },
      "source": [
        "CC_alpha=[0.00001,0.0001,0.001,0.01,0.05,0.1,0.4]\n",
        "def train_cv_plot_dt(c,s1_linear_train,s1_linear_test):\n",
        "    plt.plot(c,s1_linear_train,label='train')\n",
        "    plt.plot(c,s1_linear_test,label='cv')\n",
        "    plt.xlabel(\"cc_aplha\")\n",
        "    plt.ylabel(\"Accuracy\")\n",
        "    plt.legend(loc='lower right')\n",
        "    plt.title(\"Train and CrossValidation accuracy for Decision Tree as a function of cc_alpha\")\n",
        "train_cv_plot_dt(CC_alpha,s1_dt_train,s1_dt_test)"
      ],
      "execution_count": null,
      "outputs": [
        {
          "output_type": "display_data",
          "data": {
            "image/png": "[encoded data removed]",
            "text/plain": [
              "<Figure size 432x288 with 1 Axes>"
            ]
          },
          "metadata": {
            "needs_background": "light"
          }
        }
      ]
    },
    {
      "cell_type": "code",
      "metadata": {
        "id": "9XLcxJE5bAu3"
      },
      "source": [
        "from sklearn.metrics import mean_squared_error"
      ],
      "execution_count": null,
      "outputs": []
    },
    {
      "cell_type": "code",
      "metadata": {
        "colab": {
          "base_uri": "https://localhost:8080/"
        },
        "id": "VMCpXwtjbB3G",
        "outputId": "eae4c5c1-fa9f-4dec-d10d-8edff473d713"
      },
      "source": [
        "clf_gini = DecisionTreeClassifier(criterion = \"gini\", random_state = 100)\n",
        "clf_gini.fit(X_train, y_train) \n",
        "y_pred_tree = prediction(X_test, clf_gini)\n",
        "print(accuracy(y_test, y_pred_tree))\n",
        "\n",
        "print(clf_gini.tree_.max_depth)\n",
        "# clf.gin"
      ],
      "execution_count": null,
      "outputs": [
        {
          "output_type": "stream",
          "name": "stdout",
          "text": [
            "Confusion Matrix is:  [[22  0]\n",
            " [ 0 14]]\n",
            "Accuracy Score is:  100.0\n",
            "Classsification Report is:                precision    recall  f1-score   support\n",
            "\n",
            "           0       1.00      1.00      1.00        22\n",
            "           1       1.00      1.00      1.00        14\n",
            "\n",
            "    accuracy                           1.00        36\n",
            "   macro avg       1.00      1.00      1.00        36\n",
            "weighted avg       1.00      1.00      1.00        36\n",
            "\n",
            "None\n",
            "2\n"
          ]
        }
      ]
    },
    {
      "cell_type": "code",
      "metadata": {
        "colab": {
          "base_uri": "https://localhost:8080/"
        },
        "id": "oDG9Z3mAbIcC",
        "outputId": "bd37952f-e3c4-4f75-e7d2-873d71ed8a08"
      },
      "source": [
        "print(\"Accuracy on training set:\",clf_gini.score(X_train, y_train)*100)\n",
        "print(\"Accuracy on test set:\",clf_gini.score(X_test, y_test)*100)"
      ],
      "execution_count": null,
      "outputs": [
        {
          "output_type": "stream",
          "name": "stdout",
          "text": [
            "Accuracy on training set: 100.0\n",
            "Accuracy on test set: 100.0\n"
          ]
        }
      ]
    },
    {
      "cell_type": "code",
      "metadata": {
        "colab": {
          "base_uri": "https://localhost:8080/",
          "height": 279
        },
        "id": "wmg_RQWabLxj",
        "outputId": "6da28e57-bb19-4f0f-c307-b244556f5a16"
      },
      "source": [
        "test_accuracy = []\n",
        "train_accuracy = []\n",
        "depth = []\n",
        "for i in range(1,clf_gini.tree_.max_depth):\n",
        "    clf_gini_1 = train_using_gini(X_train, y_train, i)\n",
        "    y_pred_tree_test = prediction(X_test, clf_gini_1)\n",
        "    y_pred_tree_train = prediction(X_train, clf_gini_1)\n",
        "    test_accuracy.append(accuracy_score(y_test,y_pred_tree_test)*100)\n",
        "    train_accuracy.append(accuracy_score(y_train,y_pred_tree_train)*100)\n",
        "    depth.append(i)\n",
        "    \n",
        "plt.xlabel('Depth')\n",
        "plt.ylabel('Accuracy')\n",
        "plt.plot(depth,train_accuracy, label='train')\n",
        "plt.plot(depth,test_accuracy, label='test')\n",
        "plt.legend(loc='best')\n",
        "plt.show()"
      ],
      "execution_count": null,
      "outputs": [
        {
          "output_type": "display_data",
          "data": {
            "image/png": "[encoded data removed]",
            "text/plain": [
              "<Figure size 432x288 with 1 Axes>"
            ]
          },
          "metadata": {
            "needs_background": "light"
          }
        }
      ]
    },
    {
      "cell_type": "code",
      "metadata": {
        "colab": {
          "base_uri": "https://localhost:8080/"
        },
        "id": "DjZnCqdLbQJ2",
        "outputId": "fd2a4239-5767-4f48-e04a-b9a61fa19e93"
      },
      "source": [
        "print(\"Accuracy on training set:\",clf_gini.score(X_train, y_train)*100)\n",
        "print(\"Accuracy on test set:\",clf_gini.score(X_test, y_test)*100)"
      ],
      "execution_count": null,
      "outputs": [
        {
          "output_type": "stream",
          "name": "stdout",
          "text": [
            "Accuracy on training set: 100.0\n",
            "Accuracy on test set: 100.0\n"
          ]
        }
      ]
    },
    {
      "cell_type": "code",
      "metadata": {
        "colab": {
          "base_uri": "https://localhost:8080/",
          "height": 295
        },
        "id": "B-mo3Ia5bTsx",
        "outputId": "00a9e351-d0dc-4f3f-f457-9dfc828c471c"
      },
      "source": [
        "test_accuracy = []\n",
        "train_accuracy = []\n",
        "depth = []\n",
        "for i in range(1,clf_gini.tree_.max_depth):\n",
        "    clf_gini_1 = train_using_gini(X_train, y_train, i)\n",
        "    y_pred_tree_test = prediction(X_test, clf_gini_1)\n",
        "    y_pred_tree_train = prediction(X_train, clf_gini_1)\n",
        "    test_accuracy.append(accuracy_score(y_test,y_pred_tree_test)*100)\n",
        "    train_accuracy.append(accuracy_score(y_train,y_pred_tree_train)*100)\n",
        "    depth.append(i)\n",
        "    \n",
        "plt.xlabel('Depth')\n",
        "plt.ylabel('Accuracy')\n",
        "plt.plot(depth,train_accuracy, label='train',marker='d',markersize=4)\n",
        "plt.plot(depth,test_accuracy, label='test',marker='d',markersize=4,color='r')\n",
        "plt.title(\"Change in Accuracy w.r.t  change in Depth\")\n",
        "plt.legend(loc='best')\n",
        "plt.show()"
      ],
      "execution_count": null,
      "outputs": [
        {
          "output_type": "display_data",
          "data": {
            "image/png": "[encoded data removed]",
            "text/plain": [
              "<Figure size 432x288 with 1 Axes>"
            ]
          },
          "metadata": {
            "needs_background": "light"
          }
        }
      ]
    },
    {
      "cell_type": "code",
      "metadata": {
        "colab": {
          "base_uri": "https://localhost:8080/"
        },
        "id": "hkLdDri0bZ7I",
        "outputId": "67f2c57e-0e49-4be4-f3a6-18cd9e93a2be"
      },
      "source": [
        "X_test.shape"
      ],
      "execution_count": null,
      "outputs": [
        {
          "output_type": "execute_result",
          "data": {
            "text/plain": [
              "(36, 7)"
            ]
          },
          "metadata": {},
          "execution_count": 96
        }
      ]
    },
    {
      "cell_type": "code",
      "metadata": {
        "colab": {
          "base_uri": "https://localhost:8080/"
        },
        "id": "uPBxJtvCbdP4",
        "outputId": "f66215c4-7f27-4b0b-c900-0fe929a9aa34"
      },
      "source": [
        "clf_gini = DecisionTreeClassifier(criterion = \"gini\", random_state = 100,max_depth=8)\n",
        "clf_gini.fit(X_train, y_train) \n",
        "y_pred_tree = prediction(X_test, clf_gini)\n",
        "accuracy(y_test, y_pred_tree)"
      ],
      "execution_count": null,
      "outputs": [
        {
          "output_type": "stream",
          "name": "stdout",
          "text": [
            "Confusion Matrix is:  [[22  0]\n",
            " [ 0 14]]\n",
            "Accuracy Score is:  100.0\n",
            "Classsification Report is:                precision    recall  f1-score   support\n",
            "\n",
            "           0       1.00      1.00      1.00        22\n",
            "           1       1.00      1.00      1.00        14\n",
            "\n",
            "    accuracy                           1.00        36\n",
            "   macro avg       1.00      1.00      1.00        36\n",
            "weighted avg       1.00      1.00      1.00        36\n",
            "\n"
          ]
        }
      ]
    },
    {
      "cell_type": "code",
      "metadata": {
        "id": "a0wt_BjTbhzu"
      },
      "source": [
        "CC_alpha=[0.0000001,0.000001,0.00001,0.0001,0.001,0.01,0.1]\n",
        "model_linear = DecisionTreeClassifier(criterion = \"gini\", \n",
        "            random_state = 42,ccp_alpha=0.0000001,max_depth=2)\n",
        "score_1_dt = validation(model_linear, X_train, y_train)\n",
        "model_linear = DecisionTreeClassifier(criterion = \"gini\", \n",
        "            random_state = 42,ccp_alpha=0.000001,max_depth=2)\n",
        "score_2_dt = validation(model_linear, X_train, y_train)\n",
        "\n",
        "\n",
        "model_linear = DecisionTreeClassifier(criterion = \"gini\", \n",
        "            random_state = 42,ccp_alpha=0.00001,max_depth=2)\n",
        "score_3_dt = validation(model_linear, X_train, y_train)\n",
        "model_linear = DecisionTreeClassifier(criterion = \"gini\", \n",
        "            random_state = 42,ccp_alpha=0.0001,max_depth=2)\n",
        "score_4_dt = validation(model_linear, X_train, y_train)\n",
        "model_linear = DecisionTreeClassifier(criterion = \"gini\", \n",
        "            random_state = 42,ccp_alpha=0.001,max_depth=2)\n",
        "score_5_dt = validation(model_linear, X_train, y_train)\n",
        "model_linear = DecisionTreeClassifier(criterion = \"gini\", \n",
        "            random_state = 42,ccp_alpha=0.01,max_depth=2)\n",
        "score_6_dt = validation(model_linear, X_train, y_train)\n",
        "model_linear = DecisionTreeClassifier(criterion = \"gini\", \n",
        "            random_state = 42,ccp_alpha=0.05,max_depth=2)\n",
        "score_7_dt = validation(model_linear, X_train, y_train)"
      ],
      "execution_count": null,
      "outputs": []
    },
    {
      "cell_type": "code",
      "metadata": {
        "id": "mGlu2eMUbjBi"
      },
      "source": [
        "score_1_dt=pd.DataFrame.from_dict(score_1_dt)\n",
        "score_2_dt=pd.DataFrame.from_dict(score_2_dt)\n",
        "score_3_dt=pd.DataFrame.from_dict(score_3_dt)\n",
        "score_4_dt=pd.DataFrame.from_dict(score_4_dt)\n",
        "score_5_dt=pd.DataFrame.from_dict(score_5_dt)\n",
        "score_6_dt=pd.DataFrame.from_dict(score_6_dt)\n",
        "score_7_dt=pd.DataFrame.from_dict(score_7_dt)"
      ],
      "execution_count": null,
      "outputs": []
    },
    {
      "cell_type": "code",
      "metadata": {
        "colab": {
          "base_uri": "https://localhost:8080/",
          "height": 299
        },
        "id": "a6hcu1FObmYd",
        "outputId": "185e8d36-37c3-4f1c-86e4-076f34795cdb"
      },
      "source": [
        "score_2_dt"
      ],
      "execution_count": null,
      "outputs": [
        {
          "output_type": "execute_result",
          "data": {
            "text/html": [
              "<div>\n",
              "<style scoped>\n",
              "    .dataframe tbody tr th:only-of-type {\n",
              "        vertical-align: middle;\n",
              "    }\n",
              "\n",
              "    .dataframe tbody tr th {\n",
              "        vertical-align: top;\n",
              "    }\n",
              "\n",
              "    .dataframe thead th {\n",
              "        text-align: right;\n",
              "    }\n",
              "</style>\n",
              "<table border=\"1\" class=\"dataframe\">\n",
              "  <thead>\n",
              "    <tr style=\"text-align: right;\">\n",
              "      <th></th>\n",
              "      <th>fit_time</th>\n",
              "      <th>score_time</th>\n",
              "      <th>test_score</th>\n",
              "      <th>train_score</th>\n",
              "    </tr>\n",
              "  </thead>\n",
              "  <tbody>\n",
              "    <tr>\n",
              "      <th>0</th>\n",
              "      <td>0.000943</td>\n",
              "      <td>0.000375</td>\n",
              "      <td>1.0</td>\n",
              "      <td>1.0</td>\n",
              "    </tr>\n",
              "    <tr>\n",
              "      <th>1</th>\n",
              "      <td>0.000963</td>\n",
              "      <td>0.000317</td>\n",
              "      <td>1.0</td>\n",
              "      <td>1.0</td>\n",
              "    </tr>\n",
              "    <tr>\n",
              "      <th>2</th>\n",
              "      <td>0.000915</td>\n",
              "      <td>0.000446</td>\n",
              "      <td>1.0</td>\n",
              "      <td>1.0</td>\n",
              "    </tr>\n",
              "    <tr>\n",
              "      <th>3</th>\n",
              "      <td>0.000898</td>\n",
              "      <td>0.000340</td>\n",
              "      <td>1.0</td>\n",
              "      <td>1.0</td>\n",
              "    </tr>\n",
              "    <tr>\n",
              "      <th>4</th>\n",
              "      <td>0.000866</td>\n",
              "      <td>0.000369</td>\n",
              "      <td>1.0</td>\n",
              "      <td>1.0</td>\n",
              "    </tr>\n",
              "    <tr>\n",
              "      <th>5</th>\n",
              "      <td>0.000914</td>\n",
              "      <td>0.000364</td>\n",
              "      <td>0.9</td>\n",
              "      <td>1.0</td>\n",
              "    </tr>\n",
              "    <tr>\n",
              "      <th>6</th>\n",
              "      <td>0.000933</td>\n",
              "      <td>0.000374</td>\n",
              "      <td>1.0</td>\n",
              "      <td>1.0</td>\n",
              "    </tr>\n",
              "    <tr>\n",
              "      <th>7</th>\n",
              "      <td>0.000874</td>\n",
              "      <td>0.000329</td>\n",
              "      <td>0.9</td>\n",
              "      <td>1.0</td>\n",
              "    </tr>\n",
              "  </tbody>\n",
              "</table>\n",
              "</div>"
            ],
            "text/plain": [
              "   fit_time  score_time  test_score  train_score\n",
              "0  0.000943    0.000375         1.0          1.0\n",
              "1  0.000963    0.000317         1.0          1.0\n",
              "2  0.000915    0.000446         1.0          1.0\n",
              "3  0.000898    0.000340         1.0          1.0\n",
              "4  0.000866    0.000369         1.0          1.0\n",
              "5  0.000914    0.000364         0.9          1.0\n",
              "6  0.000933    0.000374         1.0          1.0\n",
              "7  0.000874    0.000329         0.9          1.0"
            ]
          },
          "metadata": {},
          "execution_count": 100
        }
      ]
    },
    {
      "cell_type": "code",
      "metadata": {
        "id": "CSPusmzZbqDT"
      },
      "source": [
        "s1_dt_train=[score_1_dt[['train_score']].mean(axis=0),score_2_dt[['train_score']].mean(axis=0),\n",
        "                score_3_dt[['train_score']].mean(axis=0),score_4_dt[['train_score']].mean(axis=0),score_5_dt[['train_score']].mean(axis=0),\n",
        "            score_6_dt[['train_score']].mean(axis=0),score_7_dt[['train_score']].mean(axis=0)]  \n",
        "\n",
        "s1_dt_test=[score_1_dt[['test_score']].mean(axis=0),score_2_dt[['test_score']].mean(axis=0),\n",
        "                score_3_dt[['test_score']].mean(axis=0),score_4_dt[['test_score']].mean(axis=0),score_5_dt[['test_score']].mean(axis=0),\n",
        "           score_6_dt[['test_score']].mean(axis=0),score_7_dt[['test_score']].mean(axis=0)]"
      ],
      "execution_count": null,
      "outputs": []
    },
    {
      "cell_type": "code",
      "metadata": {
        "colab": {
          "base_uri": "https://localhost:8080/",
          "height": 296
        },
        "id": "nq2dpC5Ubs6B",
        "outputId": "767c9a9e-a732-4fba-938a-e6d74457a847"
      },
      "source": [
        "CC_alpha=[0.0000001,0.000001,0.00001,0.0001,0.001,0.01,0.05]\n",
        "def train_cv_plot_dt(c,s1_linear_train,s1_linear_test):\n",
        "    plt.plot(c,s1_linear_train,label='train',marker='d',markersize=4)\n",
        "    plt.plot(c,s1_linear_test,label='cv',marker='d',markersize=4,color='r')\n",
        "    plt.xlabel(\"cc_aplha\")\n",
        "    plt.ylabel(\"Accuracy\")\n",
        "    plt.legend(loc='best')\n",
        "    plt.title(\"Train and CrossValidation accuracy for Decision Tree as a function of cc_alpha\")\n",
        "train_cv_plot_dt(CC_alpha,s1_dt_train,s1_dt_test)"
      ],
      "execution_count": null,
      "outputs": [
        {
          "output_type": "display_data",
          "data": {
            "image/png": "[encoded data removed]",
            "text/plain": [
              "<Figure size 432x288 with 1 Axes>"
            ]
          },
          "metadata": {
            "needs_background": "light"
          }
        }
      ]
    },
    {
      "cell_type": "code",
      "metadata": {
        "id": "3BuItp3obwqW"
      },
      "source": [
        "from sklearn.metrics import mean_squared_error"
      ],
      "execution_count": null,
      "outputs": []
    },
    {
      "cell_type": "code",
      "metadata": {
        "colab": {
          "base_uri": "https://localhost:8080/"
        },
        "id": "psCQrQF4eAqh",
        "outputId": "5ddb5a11-9044-4419-919b-68430247e78b"
      },
      "source": [
        "C=[0.00001,0.00005,0.0001,0.0005,0.001,0.005,0.01,0.05]\n",
        "tree_depth=[]\n",
        "tree_acc=[]\n",
        "# for i in CC_alpha:\n",
        "#     clf_gini1 = DecisionTreeClassifier(criterion = \"gini\", random_state = 42,ccp_alpha=i)\n",
        "#     clf_gini_.fit(X_train, y_train)\n",
        "#     y1_pred_tree = prediction(X_test, clf_gini)\n",
        "#     print(accuracy(y_test, y_pred_tree))\n",
        "# #     print(clf_gini1.tree_.max_depth)\n",
        "#     ccp_alpha_list.append(clf_gini1)\n",
        "for i in C:\n",
        "    clf_gini_ = DecisionTreeClassifier(criterion = \"gini\", random_state = 100,ccp_alpha=i,max_depth=2)\n",
        "    clf_gini_.fit(X_train, y_train) \n",
        "    y1_pred_tree = prediction(X_test, clf_gini)\n",
        "    tree_acc.append(accuracy(y_test, y_pred_tree))\n",
        "    tree_depth.append(clf_gini_.tree_.max_depth)"
      ],
      "execution_count": null,
      "outputs": [
        {
          "output_type": "stream",
          "name": "stdout",
          "text": [
            "Confusion Matrix is:  [[22  0]\n",
            " [ 0 14]]\n",
            "Accuracy Score is:  100.0\n",
            "Classsification Report is:                precision    recall  f1-score   support\n",
            "\n",
            "           0       1.00      1.00      1.00        22\n",
            "           1       1.00      1.00      1.00        14\n",
            "\n",
            "    accuracy                           1.00        36\n",
            "   macro avg       1.00      1.00      1.00        36\n",
            "weighted avg       1.00      1.00      1.00        36\n",
            "\n",
            "Confusion Matrix is:  [[22  0]\n",
            " [ 0 14]]\n",
            "Accuracy Score is:  100.0\n",
            "Classsification Report is:                precision    recall  f1-score   support\n",
            "\n",
            "           0       1.00      1.00      1.00        22\n",
            "           1       1.00      1.00      1.00        14\n",
            "\n",
            "    accuracy                           1.00        36\n",
            "   macro avg       1.00      1.00      1.00        36\n",
            "weighted avg       1.00      1.00      1.00        36\n",
            "\n",
            "Confusion Matrix is:  [[22  0]\n",
            " [ 0 14]]\n",
            "Accuracy Score is:  100.0\n",
            "Classsification Report is:                precision    recall  f1-score   support\n",
            "\n",
            "           0       1.00      1.00      1.00        22\n",
            "           1       1.00      1.00      1.00        14\n",
            "\n",
            "    accuracy                           1.00        36\n",
            "   macro avg       1.00      1.00      1.00        36\n",
            "weighted avg       1.00      1.00      1.00        36\n",
            "\n",
            "Confusion Matrix is:  [[22  0]\n",
            " [ 0 14]]\n",
            "Accuracy Score is:  100.0\n",
            "Classsification Report is:                precision    recall  f1-score   support\n",
            "\n",
            "           0       1.00      1.00      1.00        22\n",
            "           1       1.00      1.00      1.00        14\n",
            "\n",
            "    accuracy                           1.00        36\n",
            "   macro avg       1.00      1.00      1.00        36\n",
            "weighted avg       1.00      1.00      1.00        36\n",
            "\n",
            "Confusion Matrix is:  [[22  0]\n",
            " [ 0 14]]\n",
            "Accuracy Score is:  100.0\n",
            "Classsification Report is:                precision    recall  f1-score   support\n",
            "\n",
            "           0       1.00      1.00      1.00        22\n",
            "           1       1.00      1.00      1.00        14\n",
            "\n",
            "    accuracy                           1.00        36\n",
            "   macro avg       1.00      1.00      1.00        36\n",
            "weighted avg       1.00      1.00      1.00        36\n",
            "\n",
            "Confusion Matrix is:  [[22  0]\n",
            " [ 0 14]]\n",
            "Accuracy Score is:  100.0\n",
            "Classsification Report is:                precision    recall  f1-score   support\n",
            "\n",
            "           0       1.00      1.00      1.00        22\n",
            "           1       1.00      1.00      1.00        14\n",
            "\n",
            "    accuracy                           1.00        36\n",
            "   macro avg       1.00      1.00      1.00        36\n",
            "weighted avg       1.00      1.00      1.00        36\n",
            "\n",
            "Confusion Matrix is:  [[22  0]\n",
            " [ 0 14]]\n",
            "Accuracy Score is:  100.0\n",
            "Classsification Report is:                precision    recall  f1-score   support\n",
            "\n",
            "           0       1.00      1.00      1.00        22\n",
            "           1       1.00      1.00      1.00        14\n",
            "\n",
            "    accuracy                           1.00        36\n",
            "   macro avg       1.00      1.00      1.00        36\n",
            "weighted avg       1.00      1.00      1.00        36\n",
            "\n",
            "Confusion Matrix is:  [[22  0]\n",
            " [ 0 14]]\n",
            "Accuracy Score is:  100.0\n",
            "Classsification Report is:                precision    recall  f1-score   support\n",
            "\n",
            "           0       1.00      1.00      1.00        22\n",
            "           1       1.00      1.00      1.00        14\n",
            "\n",
            "    accuracy                           1.00        36\n",
            "   macro avg       1.00      1.00      1.00        36\n",
            "weighted avg       1.00      1.00      1.00        36\n",
            "\n"
          ]
        }
      ]
    },
    {
      "cell_type": "code",
      "metadata": {
        "colab": {
          "base_uri": "https://localhost:8080/",
          "height": 280
        },
        "id": "KPinMwZ1fZtw",
        "outputId": "91692304-f0c6-49ec-b43f-66b7c5fe08a8"
      },
      "source": [
        "plt.plot(C,tree_depth,c='g')\n",
        "plt.xlabel('ccp_aplha')\n",
        "plt.ylabel('tree depth')\n",
        "plt.show()"
      ],
      "execution_count": null,
      "outputs": [
        {
          "output_type": "display_data",
          "data": {
            "image/png": "[encoded data removed]",
            "text/plain": [
              "<Figure size 432x288 with 1 Axes>"
            ]
          },
          "metadata": {
            "needs_background": "light"
          }
        }
      ]
    },
    {
      "cell_type": "code",
      "metadata": {
        "colab": {
          "base_uri": "https://localhost:8080/"
        },
        "id": "5PW4AwIlfdAk",
        "outputId": "343c0bce-6242-40cb-8246-4502e8a8ae39"
      },
      "source": [
        "clf_gini_ = DecisionTreeClassifier(criterion = \"gini\", random_state = 100, max_depth=2,ccp_alpha=0.00001)\n",
        "clf_gini_.fit(X_train, y_train) \n",
        "y1_pred_tree = prediction(X_test, clf_gini)\n",
        "print(accuracy(y_test, y_pred_tree))\n",
        "\n",
        "# print(clf_gini_.tree_.max_depth)\n",
        "# clf.gin"
      ],
      "execution_count": null,
      "outputs": [
        {
          "output_type": "stream",
          "name": "stdout",
          "text": [
            "Confusion Matrix is:  [[22  0]\n",
            " [ 0 14]]\n",
            "Accuracy Score is:  100.0\n",
            "Classsification Report is:                precision    recall  f1-score   support\n",
            "\n",
            "           0       1.00      1.00      1.00        22\n",
            "           1       1.00      1.00      1.00        14\n",
            "\n",
            "    accuracy                           1.00        36\n",
            "   macro avg       1.00      1.00      1.00        36\n",
            "weighted avg       1.00      1.00      1.00        36\n",
            "\n",
            "None\n"
          ]
        }
      ]
    },
    {
      "cell_type": "code",
      "metadata": {
        "colab": {
          "base_uri": "https://localhost:8080/"
        },
        "id": "zu74fYYvfj_I",
        "outputId": "e3a32b99-a4b7-4728-efac-e44b08cde12f"
      },
      "source": [
        "print(\"Accuracy on training set:\",clf_gini.score(X_train, y_train)*100)\n",
        "print(\"Accuracy on test set:\",clf_gini.score(X_test, y_test)*100)"
      ],
      "execution_count": null,
      "outputs": [
        {
          "output_type": "stream",
          "name": "stdout",
          "text": [
            "Accuracy on training set: 100.0\n",
            "Accuracy on test set: 100.0\n"
          ]
        }
      ]
    },
    {
      "cell_type": "code",
      "metadata": {
        "colab": {
          "base_uri": "https://localhost:8080/",
          "height": 279
        },
        "id": "WlUekpSAfm_2",
        "outputId": "42592d9f-2ea2-4ea6-a274-363eeea2a03d"
      },
      "source": [
        "test_accuracy = []\n",
        "train_accuracy = []\n",
        "depth = []\n",
        "for i in range(1,clf_gini.tree_.max_depth):\n",
        "    clf_gini_1 = train_using_gini(X_train, y_train, i)\n",
        "    y_pred_tree_test = prediction(X_test, clf_gini_1)\n",
        "    y_pred_tree_train = prediction(X_train, clf_gini_1)\n",
        "    test_accuracy.append(accuracy_score(y_test,y_pred_tree_test)*100)\n",
        "    train_accuracy.append(accuracy_score(y_train,y_pred_tree_train)*100)\n",
        "    depth.append(i)\n",
        "    \n",
        "plt.xlabel('Depth')\n",
        "plt.ylabel('Accuracy')\n",
        "plt.plot(depth,train_accuracy, label='train',marker='o')\n",
        "plt.plot(depth,test_accuracy, label='test',marker='o',color='r')\n",
        "plt.legend(loc='best')\n",
        "plt.show()"
      ],
      "execution_count": null,
      "outputs": [
        {
          "output_type": "display_data",
          "data": {
            "image/png": "[encoded data removed]",
            "text/plain": [
              "<Figure size 432x288 with 1 Axes>"
            ]
          },
          "metadata": {
            "needs_background": "light"
          }
        }
      ]
    },
    {
      "cell_type": "code",
      "metadata": {
        "colab": {
          "base_uri": "https://localhost:8080/",
          "height": 296
        },
        "id": "Gv8Id2NpfsOk",
        "outputId": "7ac84253-da78-47da-b8a2-6b7fdec5a99c"
      },
      "source": [
        "CC_alpha=[0.0000001,0.000001,0.00001,0.0001,0.001,0.01,0.05]\n",
        "def train_cv_plot_dt(c,s1_linear_train,s1_linear_test):\n",
        "    plt.plot(c,s1_linear_train,label='train',marker='d',markersize=4)\n",
        "    plt.plot(c,s1_linear_test,label='cv',marker='d',markersize=4,color='r')\n",
        "    plt.xlabel(\"cc_aplha\")\n",
        "    plt.ylabel(\"Accuracy\")\n",
        "    plt.legend(loc='best')\n",
        "    plt.title(\"Train and CrossValidation accuracy for Decision Tree as a function of cc_alpha\")\n",
        "train_cv_plot_dt(CC_alpha,s1_dt_train,s1_dt_test)"
      ],
      "execution_count": null,
      "outputs": [
        {
          "output_type": "display_data",
          "data": {
            "image/png": "[encoded data removed]",
            "text/plain": [
              "<Figure size 432x288 with 1 Axes>"
            ]
          },
          "metadata": {
            "needs_background": "light"
          }
        }
      ]
    }
  ]
}