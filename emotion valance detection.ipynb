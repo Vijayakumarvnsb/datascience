{
  "nbformat": 4,
  "nbformat_minor": 0,
  "metadata": {
    "colab": {
      "name": "6078 no 3.ipynb",
      "provenance": [],
      "collapsed_sections": []
    },
    "kernelspec": {
      "display_name": "Python 3",
      "name": "python3"
    },
    "language_info": {
      "name": "python"
    }
  },
  "cells": [
    {
      "cell_type": "code",
      "metadata": {
        "colab": {
          "base_uri": "https://localhost:8080/"
        },
        "id": "q9XYtrBSAVXL",
        "outputId": "c71c6229-0cf4-47c5-a278-552fb63881af"
      },
      "source": [
        "from google.colab import drive\n",
        "drive.mount('/content/grive')"
      ],
      "execution_count": null,
      "outputs": [
        {
          "output_type": "stream",
          "name": "stdout",
          "text": [
            "Drive already mounted at /content/grive; to attempt to forcibly remount, call drive.mount(\"/content/grive\", force_remount=True).\n"
          ]
        }
      ]
    },
    {
      "cell_type": "code",
      "metadata": {
        "id": "AtDWZKB_dtRd"
      },
      "source": [
        "import numpy as np\n",
        "import pandas as pd\n",
        "import matplotlib.pyplot as plt\n",
        "import seaborn as sns\n",
        "\n",
        "from sklearn.model_selection import train_test_split\n",
        "from sklearn.metrics import confusion_matrix\n",
        "import itertools\n",
        "\n",
        "np.random.seed(2)\n",
        "\n",
        "import keras\n",
        "import tensorflow as tf\n",
        "from tensorflow import keras\n",
        "from keras.preprocessing.image import ImageDataGenerator\n",
        "from keras.callbacks import ReduceLROnPlateau\n",
        "from keras.utils.np_utils import to_categorical\n",
        "from keras.models import Sequential\n",
        "import tensorflow.keras.optimizers as opt\n",
        "from keras.layers.convolutional import Conv2D, MaxPooling2D, SeparableConv2D\n",
        "from keras.layers.core import Dropout, Flatten, Dense\n",
        "from keras.layers.normalization import layer_normalization\n",
        "from keras.layers import Input"
      ],
      "execution_count": null,
      "outputs": []
    },
    {
      "cell_type": "code",
      "metadata": {
        "colab": {
          "base_uri": "https://localhost:8080/",
          "height": 204
        },
        "id": "O0xaJ5YyeuSu",
        "outputId": "2c7e995a-096f-4bfa-bc5b-f8688edfd9d7"
      },
      "source": [
        "data = pd.read_csv(\"/content/grive/MyDrive/fer2013.csv\")\n",
        "data.head()"
      ],
      "execution_count": null,
      "outputs": [
        {
          "output_type": "execute_result",
          "data": {
            "text/html": [
              "<div>\n",
              "<style scoped>\n",
              "    .dataframe tbody tr th:only-of-type {\n",
              "        vertical-align: middle;\n",
              "    }\n",
              "\n",
              "    .dataframe tbody tr th {\n",
              "        vertical-align: top;\n",
              "    }\n",
              "\n",
              "    .dataframe thead th {\n",
              "        text-align: right;\n",
              "    }\n",
              "</style>\n",
              "<table border=\"1\" class=\"dataframe\">\n",
              "  <thead>\n",
              "    <tr style=\"text-align: right;\">\n",
              "      <th></th>\n",
              "      <th>emotion</th>\n",
              "      <th>pixels</th>\n",
              "      <th>Usage</th>\n",
              "    </tr>\n",
              "  </thead>\n",
              "  <tbody>\n",
              "    <tr>\n",
              "      <th>0</th>\n",
              "      <td>0</td>\n",
              "      <td>70 80 82 72 58 58 60 63 54 58 60 48 89 115 121...</td>\n",
              "      <td>Training</td>\n",
              "    </tr>\n",
              "    <tr>\n",
              "      <th>1</th>\n",
              "      <td>0</td>\n",
              "      <td>151 150 147 155 148 133 111 140 170 174 182 15...</td>\n",
              "      <td>Training</td>\n",
              "    </tr>\n",
              "    <tr>\n",
              "      <th>2</th>\n",
              "      <td>2</td>\n",
              "      <td>231 212 156 164 174 138 161 173 182 200 106 38...</td>\n",
              "      <td>Training</td>\n",
              "    </tr>\n",
              "    <tr>\n",
              "      <th>3</th>\n",
              "      <td>4</td>\n",
              "      <td>24 32 36 30 32 23 19 20 30 41 21 22 32 34 21 1...</td>\n",
              "      <td>Training</td>\n",
              "    </tr>\n",
              "    <tr>\n",
              "      <th>4</th>\n",
              "      <td>6</td>\n",
              "      <td>4 0 0 0 0 0 0 0 0 0 0 0 3 15 23 28 48 50 58 84...</td>\n",
              "      <td>Training</td>\n",
              "    </tr>\n",
              "  </tbody>\n",
              "</table>\n",
              "</div>"
            ],
            "text/plain": [
              "   emotion                                             pixels     Usage\n",
              "0        0  70 80 82 72 58 58 60 63 54 58 60 48 89 115 121...  Training\n",
              "1        0  151 150 147 155 148 133 111 140 170 174 182 15...  Training\n",
              "2        2  231 212 156 164 174 138 161 173 182 200 106 38...  Training\n",
              "3        4  24 32 36 30 32 23 19 20 30 41 21 22 32 34 21 1...  Training\n",
              "4        6  4 0 0 0 0 0 0 0 0 0 0 0 3 15 23 28 48 50 58 84...  Training"
            ]
          },
          "metadata": {},
          "execution_count": 4
        }
      ]
    },
    {
      "cell_type": "code",
      "metadata": {
        "id": "e0a_LhBme48c"
      },
      "source": [
        "groups = [g for _, g in data.groupby('Usage')]\n",
        "train = groups[2]\n",
        "val = groups[1]\n",
        "test = groups[0]"
      ],
      "execution_count": null,
      "outputs": []
    },
    {
      "cell_type": "code",
      "metadata": {
        "id": "HE9g58zpe59V"
      },
      "source": [
        "train = train.drop(labels=['Usage'], axis=1)\n",
        "val = val.drop(labels=['Usage'], axis=1)\n",
        "test = test.drop(labels=['Usage'], axis=1)\n",
        "\n",
        "Y_train = train[\"emotion\"]\n",
        "Y_val = val[\"emotion\"]\n",
        "Y_test = test[\"emotion\"]\n",
        "#'Angry', 'Disgust', 'Fear', 'Happy', 'Sad', 'Surprise', 'Neutral'#\n",
        "\n",
        "X_train = train[\"pixels\"]\n",
        "X_val = val[\"pixels\"]\n",
        "X_test = test[\"pixels\"]"
      ],
      "execution_count": null,
      "outputs": []
    },
    {
      "cell_type": "code",
      "metadata": {
        "id": "mRTWwtTtfAYN"
      },
      "source": [
        "def preprocess(X):\n",
        "    X = np.array([np.fromstring(image, np.uint8, sep=' ') for image in X])\n",
        "    X = X/255.0\n",
        "    X = X.reshape(-1, 48, 48, 1)\n",
        "    return X"
      ],
      "execution_count": null,
      "outputs": []
    },
    {
      "cell_type": "code",
      "metadata": {
        "id": "i6tMoJxSfDel"
      },
      "source": [
        "X_train = preprocess(X_train)\n",
        "X_val = preprocess(X_val)\n",
        "X_test = preprocess(X_test)"
      ],
      "execution_count": null,
      "outputs": []
    },
    {
      "cell_type": "code",
      "metadata": {
        "colab": {
          "base_uri": "https://localhost:8080/",
          "height": 284
        },
        "id": "5XOhNaQxfGw_",
        "outputId": "0c47c4c6-5682-4d40-b63e-9066b2d1a5bd"
      },
      "source": [
        "\n",
        "plt.imshow(X_train[0][:,:,0])"
      ],
      "execution_count": null,
      "outputs": [
        {
          "output_type": "execute_result",
          "data": {
            "text/plain": [
              "<matplotlib.image.AxesImage at 0x7f8d05c35f50>"
            ]
          },
          "metadata": {},
          "execution_count": 9
        },
        {
          "output_type": "display_data",
          "data": {
            "image/png": "[encoded data removed]",
            "text/plain": [
              "<Figure size 432x288 with 1 Axes>"
            ]
          },
          "metadata": {
            "needs_background": "light"
          }
        }
      ]
    },
    {
      "cell_type": "code",
      "metadata": {
        "colab": {
          "base_uri": "https://localhost:8080/",
          "height": 472
        },
        "id": "Ml8uDWTifJYd",
        "outputId": "eecd57d2-8134-40b0-dacc-4e22504bf011"
      },
      "source": [
        "plt.figure(figsize=(30, 7))\n",
        "\n",
        "plt.subplot(1,3,1)\n",
        "ax = sns.countplot(Y_train)\n",
        "ax.set(ylabel=\"count\", xlabel=\"emotion\")\n",
        "plt.title(\"Counts per emotion in training set\")\n",
        "\n",
        "plt.subplot(1,3,2)\n",
        "ax = sns.countplot(Y_val)\n",
        "ax.set(ylabel=\"count\", xlabel=\"emotion\")\n",
        "plt.title(\"Counts per emotion in validation set\")\n",
        "\n",
        "plt.subplot(1,3,3)\n",
        "ax = sns.countplot(Y_test)\n",
        "ax.set(ylabel=\"count\", xlabel=\"emotion\")\n",
        "plt.title(\"Counts per emotion in testing set\")"
      ],
      "execution_count": null,
      "outputs": [
        {
          "output_type": "stream",
          "name": "stderr",
          "text": [
            "/usr/local/lib/python3.7/dist-packages/seaborn/_decorators.py:43: FutureWarning: Pass the following variable as a keyword arg: x. From version 0.12, the only valid positional argument will be `data`, and passing other arguments without an explicit keyword will result in an error or misinterpretation.\n",
            "  FutureWarning\n",
            "/usr/local/lib/python3.7/dist-packages/seaborn/_decorators.py:43: FutureWarning: Pass the following variable as a keyword arg: x. From version 0.12, the only valid positional argument will be `data`, and passing other arguments without an explicit keyword will result in an error or misinterpretation.\n",
            "  FutureWarning\n",
            "/usr/local/lib/python3.7/dist-packages/seaborn/_decorators.py:43: FutureWarning: Pass the following variable as a keyword arg: x. From version 0.12, the only valid positional argument will be `data`, and passing other arguments without an explicit keyword will result in an error or misinterpretation.\n",
            "  FutureWarning\n"
          ]
        },
        {
          "output_type": "execute_result",
          "data": {
            "text/plain": [
              "Text(0.5, 1.0, 'Counts per emotion in testing set')"
            ]
          },
          "metadata": {},
          "execution_count": 10
        },
        {
          "output_type": "display_data",
          "data": {
            "image/png": "[encoded data removed]",
            "text/plain": [
              "<Figure size 2160x504 with 3 Axes>"
            ]
          },
          "metadata": {
            "needs_background": "light"
          }
        }
      ]
    },
    {
      "cell_type": "code",
      "metadata": {
        "colab": {
          "base_uri": "https://localhost:8080/"
        },
        "id": "gTPO0L78fNU-",
        "outputId": "1c468e02-64a3-4f1d-be05-093a0b623e00"
      },
      "source": [
        "print(\"Is any label null in training set:\", Y_train.isnull().any())\n",
        "print(\"Is any label null in validation set:\", Y_val.isnull().any())\n",
        "print(\"Is any label null in testing set:\", Y_test.isnull().any())\n",
        "\n",
        "\n",
        "Y_train = to_categorical(Y_train, num_classes=7)\n",
        "Y_val = to_categorical(Y_val, num_classes=7)\n",
        "Y_test = to_categorical(Y_test, num_classes=7)"
      ],
      "execution_count": null,
      "outputs": [
        {
          "output_type": "stream",
          "name": "stdout",
          "text": [
            "Is any label null in training set: False\n",
            "Is any label null in validation set: False\n",
            "Is any label null in testing set: False\n"
          ]
        }
      ]
    },
    {
      "cell_type": "code",
      "metadata": {
        "id": "p_NPlXENfQ8O"
      },
      "source": [
        "model = Sequential()\n",
        "model.add(Conv2D(32, (3,3), padding=\"Same\", activation='relu', input_shape=(48,48,1)))\n",
        "model.add(Conv2D(32, (5,5), padding=\"Same\", activation='relu'))\n",
        "model.add(MaxPooling2D((2,2)))\n",
        "model.add(Dropout(0.5))\n",
        "model.add(Conv2D(64, (3,3), padding=\"Same\", activation='relu'))\n",
        "model.add(Conv2D(64, (5,5), padding=\"Same\", activation='relu'))\n",
        "model.add(MaxPooling2D((2,2))) \n",
        "model.add(Dropout(0.5))\n",
        "model.add(Conv2D(128, (3,3), padding=\"Same\", activation='relu'))\n",
        "model.add(Conv2D(128, (5,5), padding=\"Same\", activation='relu'))\n",
        "model.add(MaxPooling2D((2,2))) \n",
        "model.add(Dropout(0.5))\n",
        "model.add(Flatten())\n",
        "model.add(Dense(256, activation='relu'))\n",
        "model.add(Dense(7, activation='softmax'))"
      ],
      "execution_count": null,
      "outputs": []
    },
    {
      "cell_type": "code",
      "metadata": {
        "colab": {
          "base_uri": "https://localhost:8080/"
        },
        "id": "h7Kssz2CgCI2",
        "outputId": "d6c9f3f2-7c3b-421c-df84-3b7ada623a41"
      },
      "source": [
        "optimizer = opt.Adam(lr = 0.001)\n",
        "lr_anneal = ReduceLROnPlateau(monitor = 'val_accuracy', patience=3, factor=0.2, min_lr=1e-6)"
      ],
      "execution_count": null,
      "outputs": [
        {
          "output_type": "stream",
          "name": "stderr",
          "text": [
            "/usr/local/lib/python3.7/dist-packages/keras/optimizer_v2/adam.py:105: UserWarning: The `lr` argument is deprecated, use `learning_rate` instead.\n",
            "  super(Adam, self).__init__(name, **kwargs)\n"
          ]
        }
      ]
    },
    {
      "cell_type": "code",
      "metadata": {
        "id": "uSdGNETogTqm"
      },
      "source": [
        "model.compile(optimizer=optimizer, loss='categorical_crossentropy', metrics=['accuracy'])"
      ],
      "execution_count": null,
      "outputs": []
    },
    {
      "cell_type": "code",
      "metadata": {
        "colab": {
          "base_uri": "https://localhost:8080/"
        },
        "id": "ug7SAINohSjX",
        "outputId": "80c2de0c-1292-4d35-f93f-b8b69e595dca"
      },
      "source": [
        "history = model.fit(X_train, Y_train, validation_data=[X_val, Y_val], epochs=50, batch_size = 100, callbacks=[lr_anneal])"
      ],
      "execution_count": null,
      "outputs": [
        {
          "output_type": "stream",
          "name": "stdout",
          "text": [
            "Epoch 1/50\n",
            "288/288 [==============================] - 843s 3s/step - loss: 1.8011 - accuracy: 0.2488 - val_loss: 1.7630 - val_accuracy: 0.2711 - lr: 0.0010\n",
            "Epoch 2/50\n",
            "288/288 [==============================] - 842s 3s/step - loss: 1.6924 - accuracy: 0.3218 - val_loss: 1.5455 - val_accuracy: 0.4035 - lr: 0.0010\n",
            "Epoch 3/50\n",
            "288/288 [==============================] - 842s 3s/step - loss: 1.5528 - accuracy: 0.3953 - val_loss: 1.4445 - val_accuracy: 0.4402 - lr: 0.0010\n",
            "Epoch 4/50\n",
            "288/288 [==============================] - 844s 3s/step - loss: 1.4636 - accuracy: 0.4320 - val_loss: 1.3848 - val_accuracy: 0.4678 - lr: 0.0010\n",
            "Epoch 5/50\n",
            "288/288 [==============================] - 845s 3s/step - loss: 1.4049 - accuracy: 0.4544 - val_loss: 1.3343 - val_accuracy: 0.4812 - lr: 0.0010\n",
            "Epoch 6/50\n",
            "288/288 [==============================] - 847s 3s/step - loss: 1.3617 - accuracy: 0.4728 - val_loss: 1.3187 - val_accuracy: 0.4904 - lr: 0.0010\n",
            "Epoch 7/50\n",
            "288/288 [==============================] - 845s 3s/step - loss: 1.3165 - accuracy: 0.4955 - val_loss: 1.2562 - val_accuracy: 0.5155 - lr: 0.0010\n",
            "Epoch 8/50\n",
            "288/288 [==============================] - 846s 3s/step - loss: 1.2837 - accuracy: 0.5072 - val_loss: 1.2148 - val_accuracy: 0.5302 - lr: 0.0010\n",
            "Epoch 9/50\n",
            "288/288 [==============================] - 847s 3s/step - loss: 1.2507 - accuracy: 0.5180 - val_loss: 1.2300 - val_accuracy: 0.5313 - lr: 0.0010\n",
            "Epoch 10/50\n",
            "288/288 [==============================] - 845s 3s/step - loss: 1.2232 - accuracy: 0.5331 - val_loss: 1.2329 - val_accuracy: 0.5302 - lr: 0.0010\n",
            "Epoch 11/50\n",
            "288/288 [==============================] - 843s 3s/step - loss: 1.1975 - accuracy: 0.5447 - val_loss: 1.2047 - val_accuracy: 0.5428 - lr: 0.0010\n",
            "Epoch 12/50\n",
            "288/288 [==============================] - 843s 3s/step - loss: 1.1779 - accuracy: 0.5525 - val_loss: 1.1954 - val_accuracy: 0.5422 - lr: 0.0010\n",
            "Epoch 13/50\n",
            "288/288 [==============================] - 845s 3s/step - loss: 1.1583 - accuracy: 0.5599 - val_loss: 1.1829 - val_accuracy: 0.5528 - lr: 0.0010\n",
            "Epoch 14/50\n",
            "288/288 [==============================] - 849s 3s/step - loss: 1.1364 - accuracy: 0.5693 - val_loss: 1.1618 - val_accuracy: 0.5578 - lr: 0.0010\n",
            "Epoch 15/50\n",
            "288/288 [==============================] - 858s 3s/step - loss: 1.1182 - accuracy: 0.5773 - val_loss: 1.1534 - val_accuracy: 0.5706 - lr: 0.0010\n",
            "Epoch 16/50\n",
            "288/288 [==============================] - 852s 3s/step - loss: 1.0989 - accuracy: 0.5831 - val_loss: 1.1645 - val_accuracy: 0.5570 - lr: 0.0010\n",
            "Epoch 17/50\n",
            "288/288 [==============================] - 850s 3s/step - loss: 1.0889 - accuracy: 0.5861 - val_loss: 1.1522 - val_accuracy: 0.5639 - lr: 0.0010\n",
            "Epoch 18/50\n",
            "288/288 [==============================] - 851s 3s/step - loss: 1.0673 - accuracy: 0.5949 - val_loss: 1.2192 - val_accuracy: 0.5327 - lr: 0.0010\n",
            "Epoch 19/50\n",
            "288/288 [==============================] - 854s 3s/step - loss: 1.0002 - accuracy: 0.6236 - val_loss: 1.1274 - val_accuracy: 0.5743 - lr: 2.0000e-04\n",
            "Epoch 20/50\n",
            "288/288 [==============================] - 852s 3s/step - loss: 0.9867 - accuracy: 0.6277 - val_loss: 1.1279 - val_accuracy: 0.5712 - lr: 2.0000e-04\n",
            "Epoch 21/50\n",
            "288/288 [==============================] - 855s 3s/step - loss: 0.9627 - accuracy: 0.6374 - val_loss: 1.1301 - val_accuracy: 0.5787 - lr: 2.0000e-04\n",
            "Epoch 22/50\n",
            "288/288 [==============================] - 852s 3s/step - loss: 0.9533 - accuracy: 0.6404 - val_loss: 1.1311 - val_accuracy: 0.5745 - lr: 2.0000e-04\n",
            "Epoch 23/50\n",
            "288/288 [==============================] - 847s 3s/step - loss: 0.9454 - accuracy: 0.6443 - val_loss: 1.1453 - val_accuracy: 0.5698 - lr: 2.0000e-04\n",
            "Epoch 24/50\n",
            "288/288 [==============================] - 844s 3s/step - loss: 0.9381 - accuracy: 0.6507 - val_loss: 1.1367 - val_accuracy: 0.5726 - lr: 2.0000e-04\n",
            "Epoch 25/50\n",
            "288/288 [==============================] - 843s 3s/step - loss: 0.9193 - accuracy: 0.6528 - val_loss: 1.1389 - val_accuracy: 0.5723 - lr: 4.0000e-05\n",
            "Epoch 26/50\n",
            "288/288 [==============================] - 844s 3s/step - loss: 0.9149 - accuracy: 0.6552 - val_loss: 1.1338 - val_accuracy: 0.5759 - lr: 4.0000e-05\n",
            "Epoch 27/50\n",
            "288/288 [==============================] - 846s 3s/step - loss: 0.9142 - accuracy: 0.6551 - val_loss: 1.1325 - val_accuracy: 0.5734 - lr: 4.0000e-05\n",
            "Epoch 28/50\n",
            "288/288 [==============================] - 845s 3s/step - loss: 0.9111 - accuracy: 0.6582 - val_loss: 1.1333 - val_accuracy: 0.5729 - lr: 8.0000e-06\n",
            "Epoch 29/50\n"
          ]
        }
      ]
    }
  ]
}